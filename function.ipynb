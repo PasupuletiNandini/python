{
 "cells": [
  {
   "cell_type": "code",
   "execution_count": 1,
   "id": "a0c1c20f-ecc4-4dc2-901b-b1d310a977fe",
   "metadata": {},
   "outputs": [
    {
     "name": "stdout",
     "output_type": "stream",
     "text": [
      "Good Morning all\n"
     ]
    }
   ],
   "source": [
    "def hi():\n",
    "    print(\"Good Morning all\")\n",
    "hi()    "
   ]
  },
  {
   "cell_type": "code",
   "execution_count": 3,
   "id": "62bb6c51-60ae-429c-be44-0a559b4cdcf9",
   "metadata": {},
   "outputs": [
    {
     "name": "stdout",
     "output_type": "stream",
     "text": [
      "Hello sai\n"
     ]
    }
   ],
   "source": [
    "#func with parameters\n",
    "def hi(name):\n",
    "    print(\"Hello\",name)\n",
    "hi(\"sai\")    "
   ]
  },
  {
   "cell_type": "code",
   "execution_count": 5,
   "id": "2ebf3f79-e199-4851-aa4b-801e44649997",
   "metadata": {},
   "outputs": [
    {
     "name": "stdin",
     "output_type": "stream",
     "text": [
      "enter the values of x: 3\n",
      "enter the values of y: 4\n"
     ]
    },
    {
     "name": "stdout",
     "output_type": "stream",
     "text": [
      "sum: 7\n"
     ]
    }
   ],
   "source": [
    "#func with return values\n",
    "def add(a,b):\n",
    "    return a+b\n",
    "x=int(input(\"enter the values of x:\"))\n",
    "y=int(input(\"enter the values of y:\"))\n",
    "result=add(x,y)\n",
    "print(\"sum:\",result)    "
   ]
  },
  {
   "cell_type": "code",
   "execution_count": 7,
   "id": "6d4833af-d7c6-4581-83d3-190004bbc1c7",
   "metadata": {},
   "outputs": [
    {
     "name": "stdout",
     "output_type": "stream",
     "text": [
      "hello do\n",
      "hello vijaya\n"
     ]
    }
   ],
   "source": [
    "#default parameters/func occupied parameters\n",
    "def hi(name='do'):\n",
    "    print(\"hello\",name)\n",
    "hi()\n",
    "hi(\"vijaya\")"
   ]
  },
  {
   "cell_type": "code",
   "execution_count": 4,
   "id": "0da4a294-68ff-4df6-bd11-47cafa71fb5d",
   "metadata": {},
   "outputs": [
    {
     "name": "stdout",
     "output_type": "stream",
     "text": [
      "sum: 7\n",
      "sub: -1\n",
      "mul: 12\n"
     ]
    }
   ],
   "source": [
    "'''write a function that carries and return all the arthmetic operatiom to the main code'''\n",
    "def art(a,b):\n",
    "      sum=a+b\n",
    "      sub=a-b\n",
    "      mul=a*b\n",
    "      print(\"sum:\",sum)\n",
    "      print(\"sub:\",sub)\n",
    "      print(\"mul:\",mul)\n",
    "art(3,4)   \n",
    "'''\n",
    "def ao(x,y):\n",
    "return x+y,x-y,x*y\n",
    "a=int(input())\n",
    "b=int(input())\n",
    "tot,diff,prod=ao(x,y)\n",
    "print(\"sum:\",tot)\n",
    "print(\"sub:\",diff)\n",
    "print(\"mul:\",prod)'''"
   ]
  },
  {
   "cell_type": "code",
   "execution_count": null,
   "id": "2c956247-d23b-4103-a649-52105f65931d",
   "metadata": {},
   "outputs": [],
   "source": []
  }
 ],
 "metadata": {
  "kernelspec": {
   "display_name": "Python 3 (ipykernel)",
   "language": "python",
   "name": "python3"
  },
  "language_info": {
   "codemirror_mode": {
    "name": "ipython",
    "version": 3
   },
   "file_extension": ".py",
   "mimetype": "text/x-python",
   "name": "python",
   "nbconvert_exporter": "python",
   "pygments_lexer": "ipython3",
   "version": "3.12.7"
  }
 },
 "nbformat": 4,
 "nbformat_minor": 5
}
