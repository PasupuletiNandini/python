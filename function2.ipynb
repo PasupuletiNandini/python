{
 "cells": [
  {
   "cell_type": "code",
   "execution_count": 27,
   "id": "d47913c5-3508-4ea5-b9a5-01c4aea472bc",
   "metadata": {},
   "outputs": [
    {
     "name": "stdin",
     "output_type": "stream",
     "text": [
      "enter terms: 9\n"
     ]
    },
    {
     "name": "stdout",
     "output_type": "stream",
     "text": [
      "0  1  1  2  3  5  8  13  21  "
     ]
    }
   ],
   "source": [
    "#fibonacci 1 1 1 2 3 4 5 6 7 8 21 23 32 55\n",
    "def fib(n):\n",
    "    if n<=1:\n",
    "        return n\n",
    "    else:\n",
    "        return fib(n-1)+fib(n-2)\n",
    "num=int(input(\"enter terms:\"))\n",
    "for i in range(num):\n",
    "    print(fib(i),end='  ')"
   ]
  },
  {
   "cell_type": "code",
   "execution_count": 35,
   "id": "61172ada-3807-440c-8c52-c7dfc657bbbd",
   "metadata": {},
   "outputs": [
    {
     "name": "stdin",
     "output_type": "stream",
     "text": [
      "enter a 4 digit number: 1234\n"
     ]
    },
    {
     "name": "stdout",
     "output_type": "stream",
     "text": [
      "sum of digits: 10\n"
     ]
    }
   ],
   "source": [
    "def dsum(n):\n",
    "    if n==0:\n",
    "        return 0\n",
    "    return n%10+ temp(n//10)\n",
    "def temp(n):\n",
    "    return dsum(n)\n",
    "num=int(input(\"enter a 4 digit number:\"))\n",
    "print(\"sum of digits:\",dsum(num))"
   ]
  },
  {
   "cell_type": "code",
   "execution_count": 37,
   "id": "d0a78a94-69e9-49ae-ac5f-909533ecb8e6",
   "metadata": {},
   "outputs": [
    {
     "name": "stdin",
     "output_type": "stream",
     "text": [
      "enter a 4 digit number: 0\n"
     ]
    },
    {
     "name": "stdout",
     "output_type": "stream",
     "text": [
      "sum of digits: 0\n"
     ]
    }
   ],
   "source": [
    "def dsum(n):\n",
    "    if n==0:\n",
    "        return 0\n",
    "    return n%10+ temp(n//10)\n",
    "def temp(n):\n",
    "    return dsum(n)\n",
    "num=int(input(\"enter a 4 digit number:\"))\n",
    "print(\"sum of digits:\",dsum(num))"
   ]
  },
  {
   "cell_type": "code",
   "execution_count": 41,
   "id": "9b4a4710-7ab2-40ef-95e6-e1932a0d55d1",
   "metadata": {},
   "outputs": [
    {
     "name": "stdin",
     "output_type": "stream",
     "text": [
      "enter a 4 digit number: 1758\n"
     ]
    },
    {
     "name": "stdout",
     "output_type": "stream",
     "text": [
      "sum of digits: 21\n"
     ]
    }
   ],
   "source": [
    "def dsum(n):\n",
    "    if n==0:\n",
    "        return 0\n",
    "    return n%10+ temp(n//10)\n",
    "def temp(n):\n",
    "    return dsum(n)\n",
    "num=int(input(\"enter a 4 digit number:\"))\n",
    "print(\"sum of digits:\",dsum(num))"
   ]
  },
  {
   "cell_type": "code",
   "execution_count": 64,
   "id": "1af9d292-b25d-421c-ac1c-33cc07bfc1f2",
   "metadata": {},
   "outputs": [
    {
     "ename": "IndentationError",
     "evalue": "unindent does not match any outer indentation level (<string>, line 9)",
     "output_type": "error",
     "traceback": [
      "\u001b[1;36m  File \u001b[1;32m<string>:9\u001b[1;36m\u001b[0m\n\u001b[1;33m    print(\"komarpu\", n)\u001b[0m\n\u001b[1;37m                       ^\u001b[0m\n\u001b[1;31mIndentationError\u001b[0m\u001b[1;31m:\u001b[0m unindent does not match any outer indentation level\n"
     ]
    }
   ],
   "source": [
    "def A(n):\n",
    "    if n<=0:\n",
    "        return\n",
    "    print(\"sunny\", n)\n",
    "    B(n-1)\n",
    "def B(n):\n",
    "     if n<=0\n",
    "        return\n",
    "    print(\"komarpu\", n)\n",
    "    A(n-1)\n",
    "num=int(input(inter(\"enter a number:\"))\n",
    "A(num)"
   ]
  },
  {
   "cell_type": "code",
   "execution_count": null,
   "id": "746f7cde-e6aa-4c50-b91a-50268439c8c8",
   "metadata": {},
   "outputs": [],
   "source": []
  }
 ],
 "metadata": {
  "kernelspec": {
   "display_name": "Python 3 (ipykernel)",
   "language": "python",
   "name": "python3"
  },
  "language_info": {
   "codemirror_mode": {
    "name": "ipython",
    "version": 3
   },
   "file_extension": ".py",
   "mimetype": "text/x-python",
   "name": "python",
   "nbconvert_exporter": "python",
   "pygments_lexer": "ipython3",
   "version": "3.12.7"
  }
 },
 "nbformat": 4,
 "nbformat_minor": 5
}
