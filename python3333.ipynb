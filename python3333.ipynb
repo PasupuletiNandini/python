{
 "cells": [
  {
   "cell_type": "code",
   "execution_count": 40,
   "id": "e6ae7d06-bf22-48f4-a6fe-4ab2e29dfbed",
   "metadata": {},
   "outputs": [
    {
     "name": "stdin",
     "output_type": "stream",
     "text": [
      "enter the age of the person: 1\n"
     ]
    },
    {
     "name": "stdout",
     "output_type": "stream",
     "text": [
      "the person is underage\n"
     ]
    }
   ],
   "source": [
    "#code for if condition to check, whether the person is eligible to vote or not\n",
    "#age >18\n",
    "age=int(input(\"enter the age of the person:\"))\n",
    "if age>=18:\n",
    "    print(\"eligible to vote\")\n",
    "    \n",
    "    \n",
    "    "
   ]
  },
  {
   "cell_type": "markdown",
   "id": "22c6d595-ba21-480b-b7f2-b8ade098c657",
   "metadata": {},
   "source": [
    "# code for determining the character entered by the user\n",
    "# input:9\n",
    "# output:the user has entered a digit\n",
    "char=input(\"press any key\")\n",
    "if char.isalpha():\n",
    "        print(char,\"is a character\")\n",
    "if char.isdigit():\n",
    "        print(char, \"is a digit\")\n",
    "if char.isspace():\n",
    "        print(char,\"is a space\")\n",
    "      "
   ]
  },
  {
   "cell_type": "code",
   "execution_count": 10,
   "id": "ac8d2114-7af9-422b-81f3-ed4e637f5bbd",
   "metadata": {},
   "outputs": [
    {
     "name": "stdin",
     "output_type": "stream",
     "text": [
      "press any key    \n"
     ]
    },
    {
     "name": "stdout",
     "output_type": "stream",
     "text": [
      "    is a space\n"
     ]
    }
   ],
   "source": [
    "'''code for determining the character entered by the user\n",
    "input:9\n",
    "output:the user has entered a digit'''\n",
    "char=input(\"press any key\") \n",
    "if char.isalpha(): \n",
    "    print(char,\"is a character\") \n",
    "if char.isdigit(): \n",
    "    print(char, \"is a digit\") \n",
    "if char.isspace():\n",
    "    print(char,\"is a space\")"
   ]
  },
  {
   "cell_type": "code",
   "execution_count": 26,
   "id": "91b1994c-a860-4afd-bf2c-7cba6952ba9d",
   "metadata": {},
   "outputs": [
    {
     "name": "stdin",
     "output_type": "stream",
     "text": [
      "enter a number: 5\n"
     ]
    },
    {
     "name": "stdout",
     "output_type": "stream",
     "text": [
      "postive\n"
     ]
    }
   ],
   "source": [
    "#code to check the number is postive or not\n",
    "num=int(input(\"enter a number:\"))\n",
    "if num>0:\n",
    "    print(\"postive\")\n",
    "if num<0:\n",
    "    print(\"negtive\")\n",
    "if num==0:\n",
    "    print(\"zero\")\n",
    "    "
   ]
  },
  {
   "cell_type": "code",
   "execution_count": 42,
   "id": "044f6369-1252-4d2c-9f91-7a38158b0633",
   "metadata": {},
   "outputs": [
    {
     "name": "stdin",
     "output_type": "stream",
     "text": [
      "enter the age of the person: 7\n"
     ]
    },
    {
     "name": "stdout",
     "output_type": "stream",
     "text": [
      "the person is underage\n"
     ]
    }
   ],
   "source": [
    "age=int(input(\"enter the age of the person:\"))\n",
    "if age>=18:\n",
    "    print(\"eligible to vote\")\n",
    "else:\n",
    "    print(\"the person is underage\")\n",
    "    "
   ]
  },
  {
   "cell_type": "code",
   "execution_count": 50,
   "id": "036eb115-e77e-43f2-9d1d-270a301ce834",
   "metadata": {},
   "outputs": [
    {
     "name": "stdin",
     "output_type": "stream",
     "text": [
      "enter a number 45\n"
     ]
    },
    {
     "name": "stdout",
     "output_type": "stream",
     "text": [
      "odd\n"
     ]
    }
   ],
   "source": [
    "num=int(input(\"enter a number\"))\n",
    "if num%2==0:\n",
    "    print(\"even\")\n",
    "else:\n",
    "    print(\"odd\")"
   ]
  },
  {
   "cell_type": "code",
   "execution_count": 62,
   "id": "e9b1e841-b114-4556-998b-38339df4800e",
   "metadata": {},
   "outputs": [
    {
     "name": "stdin",
     "output_type": "stream",
     "text": [
      "enter a word easdr\n"
     ]
    },
    {
     "name": "stdout",
     "output_type": "stream",
     "text": [
      "EASDR\n"
     ]
    }
   ],
   "source": [
    "word=input(\"enter a word\")\n",
    "if word.islower():\n",
    "    print(word.upper())\n",
    "if word.isupper():\n",
    "    print(word.lower())"
   ]
  },
  {
   "cell_type": "code",
   "execution_count": 64,
   "id": "69f21927-4296-4fc3-bc77-1536255f78d4",
   "metadata": {},
   "outputs": [
    {
     "name": "stdin",
     "output_type": "stream",
     "text": [
      "enter a char fron a to z e\n"
     ]
    },
    {
     "name": "stdout",
     "output_type": "stream",
     "text": [
      "the entered character was in lowercase...upperE\n"
     ]
    }
   ],
   "source": [
    "#program to enter any char if the entered char.if the entered char is in lowercase than convert thr char into upper and viceversa\n",
    "c=input(\"enter a char fron a to z\")\n",
    "if c>='A' and c<='Z':\n",
    "    c=c.lower()\n",
    "    print(\"the entered character was in uppercase...lower\"+c)\n",
    "else:\n",
    "    c=c.upper()\n",
    "    print(\"the entered character was in lowercase...upper\"+c)\n",
    "    "
   ]
  },
  {
   "cell_type": "code",
   "execution_count": 78,
   "id": "8ba89a29-e49e-4a15-a76e-f38f02636086",
   "metadata": {},
   "outputs": [
    {
     "name": "stdin",
     "output_type": "stream",
     "text": [
      "enter a number 30\n"
     ]
    },
    {
     "name": "stdout",
     "output_type": "stream",
     "text": [
      "30 is in range of 21-30 range\n"
     ]
    }
   ],
   "source": [
    "#### code for checking the interval of an give a number(nesed if-elif-else)\n",
    "num=int(input(\"enter a number\"))\n",
    "if num>=0 and num<=10:\n",
    "    print(num ,\"is in 0-10 range \")\n",
    "elif num>=11 and num<=20:\n",
    "    print(num, \"is in range of 11-20 range\")\n",
    "elif num>=21 and num<=30:\n",
    "    print(num, \"is in range of 21-30 range\")\n",
    "else:\n",
    "    print(\"outof range\")"
   ]
  },
  {
   "cell_type": "code",
   "execution_count": 90,
   "id": "4fb83bd4-6921-4d2f-9f2a-87c3f07b55ab",
   "metadata": {},
   "outputs": [
    {
     "name": "stdin",
     "output_type": "stream",
     "text": [
      "enter a number: 66\n"
     ]
    },
    {
     "name": "stdout",
     "output_type": "stream",
     "text": [
      "postive\n"
     ]
    }
   ],
   "source": [
    "#check wherther the number is pos neg zero\n",
    "num=int(input(\"enter a number:\"))\n",
    "if num>0:\n",
    "    print(\"postive\")\n",
    "elif num<0:\n",
    "    print(\"negtive\")\n",
    "elif num==0:\n",
    "    print(\"zero\")  \n",
    "    \n"
   ]
  },
  {
   "cell_type": "code",
   "execution_count": 104,
   "id": "cc5ba3f2-da37-47c8-b465-12625147f242",
   "metadata": {},
   "outputs": [
    {
     "name": "stdin",
     "output_type": "stream",
     "text": [
      "enter a number: 3\n"
     ]
    },
    {
     "name": "stdout",
     "output_type": "stream",
     "text": [
      "0 1 2 3 "
     ]
    }
   ],
   "source": [
    "#### while loop\n",
    "#printing the whole number till n\n",
    "n=int(input(\"enter a number:\"))\n",
    "loop=0\n",
    "while loop<=n:\n",
    "    print(loop,end=\" \")\n",
    "    loop+=1"
   ]
  },
  {
   "cell_type": "code",
   "execution_count": 108,
   "id": "6e0cdb2b-6edc-4884-a20d-235b1a8abfd4",
   "metadata": {},
   "outputs": [
    {
     "name": "stdout",
     "output_type": "stream",
     "text": [
      "3\n",
      "2\n",
      "1\n",
      "Time's up!\n"
     ]
    }
   ],
   "source": [
    "i = 3\n",
    "while i > 0:\n",
    "    print(i)\n",
    "    i -= 1\n",
    "\n",
    "print(\"Time's up!\")\n"
   ]
  },
  {
   "cell_type": "code",
   "execution_count": 110,
   "id": "c8ff33be-5ada-46c7-8fe5-f3521886fe5f",
   "metadata": {},
   "outputs": [
    {
     "name": "stdin",
     "output_type": "stream",
     "text": [
      "enter the value of n 3\n"
     ]
    },
    {
     "name": "stdout",
     "output_type": "stream",
     "text": [
      "3 2 1 0 "
     ]
    }
   ],
   "source": [
    "#reverse loop\n",
    "num=int(input(\"enter the value of n\"))\n",
    "while num>=0:\n",
    "    print(num,end=\" \")\n",
    "    num-=1"
   ]
  },
  {
   "cell_type": "code",
   "execution_count": 116,
   "id": "e81a8092-8d61-4171-b524-acc93974c5cf",
   "metadata": {},
   "outputs": [
    {
     "name": "stdin",
     "output_type": "stream",
     "text": [
      "enter a number: 20\n"
     ]
    },
    {
     "name": "stdout",
     "output_type": "stream",
     "text": [
      "02468101214161820"
     ]
    }
   ],
   "source": [
    "#print all even num\n",
    "n=int(input(\"enter a number:\"))\n",
    "i=0\n",
    "while i<=n:\n",
    "    if i%2==0:\n",
    "        print(i,end='')\n",
    "    i+=1    "
   ]
  },
  {
   "cell_type": "code",
   "execution_count": 120,
   "id": "15d3f145-60eb-47fb-a76f-03e664121eaa",
   "metadata": {},
   "outputs": [
    {
     "name": "stdin",
     "output_type": "stream",
     "text": [
      "enter a number: 20\n"
     ]
    },
    {
     "name": "stdout",
     "output_type": "stream",
     "text": [
      "135791113151719"
     ]
    }
   ],
   "source": [
    "n=int(input(\"enter a number:\"))\n",
    "i=0\n",
    "while i<=n:\n",
    "    if i%2==1:\n",
    "        print(i,end='')\n",
    "    i+=1 "
   ]
  },
  {
   "cell_type": "code",
   "execution_count": 129,
   "id": "f340d72c-9138-42a7-8a34-6f25568a3497",
   "metadata": {},
   "outputs": [
    {
     "name": "stdout",
     "output_type": "stream",
     "text": [
      "enter -1 to exit!!!\n"
     ]
    },
    {
     "name": "stdin",
     "output_type": "stream",
     "text": [
      "enter any number: 3\n",
      "enter any number: 4\n",
      "enter any number: -3\n",
      "enter any number: -1\n"
     ]
    },
    {
     "name": "stdout",
     "output_type": "stream",
     "text": [
      "count pos entered: 2\n",
      "count neg entered: 1\n",
      "count zeros entered: 0\n"
     ]
    }
   ],
   "source": [
    "'''write a program to read the number untill -1is uncountered also count the negitive and postive and zero entered by the user\n",
    "'''\n",
    "n=p=z=0\n",
    "print(\"enter -1 to exit!!!\")\n",
    "while(1):\n",
    "    num=int(input(\"enter any number:\"))\n",
    "    if num==-1:\n",
    "        break\n",
    "    if num==0:\n",
    "        z+=1\n",
    "    elif num>0:\n",
    "        p+=1\n",
    "    elif num<0: \n",
    "        n+=1\n",
    "    else:\n",
    "        n+=1\n",
    "print(\"count pos entered:\",p)        \n",
    "print(\"count neg entered:\",n)\n",
    "print(\"count zeros entered:\",z) "
   ]
  },
  {
   "cell_type": "code",
   "execution_count": 133,
   "id": "0347d4c1-f9ef-41c2-aa45-480c8679efa3",
   "metadata": {},
   "outputs": [
    {
     "name": "stdout",
     "output_type": "stream",
     "text": [
      "decimal equivalent: 1\n"
     ]
    }
   ],
   "source": [
    "'''write a program to convert binary number to decimal number by using a while loop only\n",
    "input=1101\n",
    "output=13'''\n",
    "n=1001\n",
    "sum=i=0\n",
    "while n>sum:\n",
    "    r=n%10\n",
    "    sum=sum+r*(2**i)\n",
    "    n//=10\n",
    "    i+=1\n",
    "print(\"decimal equivalent:\",sum)    \n",
    "    "
   ]
  },
  {
   "cell_type": "code",
   "execution_count": null,
   "id": "73fafba9-23fd-429e-be1d-f34db090122a",
   "metadata": {},
   "outputs": [],
   "source": []
  }
 ],
 "metadata": {
  "kernelspec": {
   "display_name": "Python 3 (ipykernel)",
   "language": "python",
   "name": "python3"
  },
  "language_info": {
   "codemirror_mode": {
    "name": "ipython",
    "version": 3
   },
   "file_extension": ".py",
   "mimetype": "text/x-python",
   "name": "python",
   "nbconvert_exporter": "python",
   "pygments_lexer": "ipython3",
   "version": "3.12.7"
  }
 },
 "nbformat": 4,
 "nbformat_minor": 5
}
