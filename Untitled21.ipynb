{
 "cells": [
  {
   "cell_type": "code",
   "execution_count": 10,
   "id": "f6f6f157-c167-4104-9cf3-8fc467ba06c5",
   "metadata": {},
   "outputs": [
    {
     "name": "stdin",
     "output_type": "stream",
     "text": [
      "enter the any charater: 3\n",
      "enter the any charater: f\n",
      "enter the any charater: t\n",
      "enter the any charater: r\n",
      "enter the any charater: g\n",
      "enter the any charater: Y\n",
      "enter the any charater: Y\n",
      "enter the any charater: 7\n",
      "enter the any charater: \n",
      "enter the any charater: 8\n",
      "enter the any charater: *\n"
     ]
    },
    {
     "name": "stdout",
     "output_type": "stream",
     "text": [
      "lower: 4\n",
      "upper: 2\n",
      "number: 3\n"
     ]
    }
   ],
   "source": [
    "ch=input(\"enter the any charater:\")\n",
    "n=l=u=0\n",
    "if ch>='0' and ch<='9':\n",
    "    n+=1\n",
    "elif ch>='a' and ch<='z':\n",
    "    l+=1\n",
    "elif ch>='A' and ch<='Z':\n",
    "    u+=1    \n",
    "while ch!=\"*\":  \n",
    "          ch=input(\"enter the any charater:\")\n",
    "          if ch>='0' and ch<='9':\n",
    "               n+=1\n",
    "          elif ch>='a' and ch<='z':\n",
    "               l+=1\n",
    "          elif ch>='A' and ch<='Z':\n",
    "                u+=1 \n",
    "print(\"lower:\",l)\n",
    "print(\"upper:\",u)\n",
    "print(\"number:\",n)\n",
    "    \n",
    "    "
   ]
  },
  {
   "cell_type": "code",
   "execution_count": 12,
   "id": "2e9629b9-be95-445a-9300-ebbc2a1c03f8",
   "metadata": {},
   "outputs": [
    {
     "name": "stdout",
     "output_type": "stream",
     "text": [
      "c h e e t h a "
     ]
    }
   ],
   "source": [
    "#simple for loop(string)\n",
    "str=\"cheetha\"\n",
    "for i in str:\n",
    "    print(i,end=' ')"
   ]
  },
  {
   "cell_type": "code",
   "execution_count": 14,
   "id": "e2324772-e0d9-49b3-b7ab-f2ddfc66781b",
   "metadata": {},
   "outputs": [
    {
     "name": "stdout",
     "output_type": "stream",
     "text": [
      "apple\n",
      "bannaaa\n",
      "goa\n"
     ]
    }
   ],
   "source": [
    "#list of string\n",
    "s=[\"apple\",\"bannaaa\",\"goa\"]\n",
    "for pet in s:\n",
    "    print(pet)"
   ]
  },
  {
   "cell_type": "code",
   "execution_count": 78,
   "id": "6ab8e6e1-823e-4255-83d7-82482fd1e532",
   "metadata": {},
   "outputs": [
    {
     "name": "stdin",
     "output_type": "stream",
     "text": [
      "enter the value of n 4\n"
     ]
    },
    {
     "name": "stdout",
     "output_type": "stream",
     "text": [
      "50 49 48 47 46 45 44 43 42 41 40 39 38 37 36 35 34 33 32 31 30 29 28 27 26 25 24 23 22 21 20 19 18 17 16 15 14 13 12 11 10 9 8 7 6 "
     ]
    }
   ],
   "source": [
    "# for with-in range\n",
    "n=int(input(\"enter the value of n\"))\n",
    "for i in range(21,n+1,2):\n",
    "    print(i,end=\" \")\n",
    "    #reverse number \n",
    "for i in range(50,n+1,-1):\n",
    "    print(i,end=\" \")"
   ]
  },
  {
   "cell_type": "code",
   "execution_count": 24,
   "id": "78f853fe-ac95-4339-8589-0ab1a3244901",
   "metadata": {},
   "outputs": [
    {
     "name": "stdin",
     "output_type": "stream",
     "text": [
      "enter the value of n 21\n"
     ]
    },
    {
     "name": "stdout",
     "output_type": "stream",
     "text": [
      "21 20 19 18 17 16 15 14 13 12 11 10 9 8 7 6 5 4 3 2 1 "
     ]
    }
   ],
   "source": [
    "n=int(input(\"enter the value of n\"))\n",
    "for i in range(n,0,-1):        \n",
    "    print(i,end=\" \")"
   ]
  },
  {
   "cell_type": "code",
   "execution_count": 80,
   "id": "03e352cb-c353-444d-bbf4-6faa166f33ee",
   "metadata": {},
   "outputs": [
    {
     "name": "stdin",
     "output_type": "stream",
     "text": [
      "enter the a number: 3\n"
     ]
    },
    {
     "name": "stdout",
     "output_type": "stream",
     "text": [
      "Multiplicaton tale of  3\n",
      "***********************\n",
      "3 X 1 = 3\n",
      "3 X 2 = 6\n",
      "3 X 3 = 9\n",
      "3 X 4 = 12\n",
      "3 X 5 = 15\n",
      "3 X 6 = 18\n",
      "3 X 7 = 21\n",
      "3 X 8 = 24\n",
      "3 X 9 = 27\n",
      "3 X 10 = 30\n"
     ]
    }
   ],
   "source": [
    "'''code for printing multiplication table for n where n is entered by the user '''\n",
    "n=int(input(\"enter the a number:\"))\n",
    "print(\"Multiplicaton tale of \",n)\n",
    "print(\"***********************\")\n",
    "for i in range(1,11):\n",
    "        print(n,\"X\",i,\"=\",n*i)\n",
    "\n",
    "\n"
   ]
  },
  {
   "cell_type": "code",
   "execution_count": 88,
   "id": "9dec0f5e-4622-4306-9c34-c61b9d5390a3",
   "metadata": {},
   "outputs": [
    {
     "name": "stdin",
     "output_type": "stream",
     "text": [
      "enter the  starting year: 1900\n",
      "enter the ending year: 2102\n"
     ]
    },
    {
     "name": "stdout",
     "output_type": "stream",
     "text": [
      "1900 1904 1908 1912 1916 1920 1924 1928 1932 1936 1940 1944 1948 1952 1956 1960 1964 1968 1972 1976 1980 1984 1988 1992 1996 2000 2004 2008 2012 2016 2020 2024 2028 2032 2036 2040 2044 2048 2052 2056 2060 2064 2068 2072 2076 2080 2084 2088 2092 2096 2100 "
     ]
    }
   ],
   "source": [
    "#program to dispaly all the leap years from 1900,2101\n",
    "st=int(input(\"enter the  starting year:\"))\n",
    "en=int(input(\"enter the ending year:\"))\n",
    "for i in range(st,en+1):\n",
    "    if i%4==0:\n",
    "        print(i,end=\" \")"
   ]
  },
  {
   "cell_type": "code",
   "execution_count": 112,
   "id": "40afc237-d001-478c-a3ea-99b68f770db5",
   "metadata": {},
   "outputs": [
    {
     "name": "stdin",
     "output_type": "stream",
     "text": [
      "enter a number 5\n"
     ]
    },
    {
     "name": "stdout",
     "output_type": "stream",
     "text": [
      "1.4636111111111112\n"
     ]
    }
   ],
   "source": [
    "n=int(input(\"enter a number\"))\n",
    "sum=0\n",
    "for i in range(1,n+1):\n",
    "    a=1/(i**2)\n",
    "    sum=sum+a\n",
    "print(sum)"
   ]
  },
  {
   "cell_type": "code",
   "execution_count": 114,
   "id": "15c0eb66-5278-4e19-8b61-12a46f972e7f",
   "metadata": {},
   "outputs": [
    {
     "name": "stdin",
     "output_type": "stream",
     "text": [
      "enter a number 5\n"
     ]
    },
    {
     "name": "stdout",
     "output_type": "stream",
     "text": [
      "0.8333333333333333\n"
     ]
    }
   ],
   "source": [
    "n=int(input(\"enter a number\"))\n",
    "sum=0\n",
    "for i in range(1,n+1):\n",
    "    a=1/(i/i+n)\n",
    "    sum=sum+a\n",
    "print(sum)"
   ]
  },
  {
   "cell_type": "code",
   "execution_count": 144,
   "id": "210a447e-7f3e-49f9-b6a7-4a5924a21023",
   "metadata": {},
   "outputs": [
    {
     "name": "stdin",
     "output_type": "stream",
     "text": [
      "enter the  day one should start: 2\n",
      "enter the total number of month: 31\n"
     ]
    },
    {
     "name": "stdout",
     "output_type": "stream",
     "text": [
      "sun  mon tue wed thu fri sat\n",
      "----------------------------\n",
      "           "
     ]
    },
    {
     "ename": "TypeError",
     "evalue": "'str' object is not callable",
     "output_type": "error",
     "traceback": [
      "\u001b[1;31m---------------------------------------------------------------------------\u001b[0m",
      "\u001b[1;31mTypeError\u001b[0m                                 Traceback (most recent call last)",
      "Cell \u001b[1;32mIn[144], line 14\u001b[0m\n\u001b[0;32m     12\u001b[0m \u001b[38;5;28;01melse\u001b[39;00m:\n\u001b[0;32m     13\u001b[0m     i\u001b[38;5;241m+\u001b[39m\u001b[38;5;241m=\u001b[39m\u001b[38;5;241m1\u001b[39m\n\u001b[1;32m---> 14\u001b[0m \u001b[38;5;28mprint\u001b[39m(\u001b[38;5;28mstr\u001b[39m(j)\u001b[38;5;241m+\u001b[39m \u001b[38;5;124m\"\u001b[39m\u001b[38;5;124m  \u001b[39m\u001b[38;5;124m\"\u001b[39m,end\u001b[38;5;241m=\u001b[39m\u001b[38;5;124m\"\u001b[39m\u001b[38;5;124m \u001b[39m\u001b[38;5;124m\"\u001b[39m)\n",
      "\u001b[1;31mTypeError\u001b[0m: 'str' object is not callable"
     ]
    }
   ],
   "source": [
    "sone=int(input(\"enter the  day one should start:\"))\n",
    "days=int(input(\"enter the total number of month:\"))\n",
    "print(\"sun  mon tue wed thu fri sat\")\n",
    "print(\"----------------------------\")\n",
    "for i in range(sone-1):\n",
    "    print(end=\"           \")\n",
    "i=sone-1\n",
    "for j in range(1,days+1):\n",
    "    if i>7:\n",
    "       print()\n",
    "       i=1\n",
    "    else:\n",
    "        i+=1\n",
    "    print(str(j)+ \"  \",end=\" \")\n",
    "    \n",
    "    "
   ]
  },
  {
   "cell_type": "code",
   "execution_count": 148,
   "id": "c7cec82a-781c-4df7-a55c-860e82ad53f9",
   "metadata": {},
   "outputs": [
    {
     "name": "stdout",
     "output_type": "stream",
     "text": [
      "   November 2023\n",
      "Mo Tu We Th Fr Sa Su\n",
      "       1  2  3  4  5\n",
      " 6  7  8  9 10 11 12\n",
      "13 14 15 16 17 18 19\n",
      "20 21 22 23 24 25 26\n",
      "27 28 29 30\n",
      "\n"
     ]
    }
   ],
   "source": [
    "import calendar\n",
    "year=2023\n",
    "month=11\n",
    "print(calendar.month(year,month))\n"
   ]
  },
  {
   "cell_type": "code",
   "execution_count": 158,
   "id": "356daf2d-6a87-4f25-8aac-9db2abadbb41",
   "metadata": {},
   "outputs": [
    {
     "name": "stdout",
     "output_type": "stream",
     "text": [
      "sun  mon  tue  wed  thu  fri  sat\n",
      "      1    2    3    4    5  \n",
      "  6    7    8    9   10   11   12  \n",
      " 13   14   15   16   17   18   19  \n",
      " 20   21   22   23   24   25   26  \n",
      " 27   28   29   30   31  "
     ]
    }
   ],
   "source": [
    "mdays=31\n",
    "sdays=2\n",
    "print(\"sun  mon  tue  wed  thu  fri  sat\")\n",
    "for _ in range(sdays):\n",
    "    print(\" \", end=\" \")\n",
    "for days in range(1,mdays+1):\n",
    "    print(f\"{days: >3} \", end=' ')\n",
    "    if(sdays+days) %7==0:\n",
    "        print()\n",
    "    "
   ]
  },
  {
   "cell_type": "code",
   "execution_count": null,
   "id": "744d586c-78f7-47d5-a570-1c1d702e188d",
   "metadata": {},
   "outputs": [],
   "source": []
  }
 ],
 "metadata": {
  "kernelspec": {
   "display_name": "Python 3 (ipykernel)",
   "language": "python",
   "name": "python3"
  },
  "language_info": {
   "codemirror_mode": {
    "name": "ipython",
    "version": 3
   },
   "file_extension": ".py",
   "mimetype": "text/x-python",
   "name": "python",
   "nbconvert_exporter": "python",
   "pygments_lexer": "ipython3",
   "version": "3.12.7"
  }
 },
 "nbformat": 4,
 "nbformat_minor": 5
}
