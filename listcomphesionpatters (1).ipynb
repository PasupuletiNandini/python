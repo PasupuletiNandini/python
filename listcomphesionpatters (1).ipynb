{
 "cells": [
  {
   "cell_type": "code",
   "execution_count": 1,
   "id": "33aefb4a-9be3-4cef-b954-a9135744d987",
   "metadata": {},
   "outputs": [
    {
     "name": "stdin",
     "output_type": "stream",
     "text": [
      "Enter rows: 5\n"
     ]
    },
    {
     "name": "stdout",
     "output_type": "stream",
     "text": [
      "*\n",
      "**\n",
      "***\n",
      "****\n",
      "*****\n"
     ]
    }
   ],
   "source": [
    "rows=int(input(\"Enter rows:\"))\n",
    "pattern=[''.join(['*' for _ in range(i)])for i in range(1,rows+1)]\n",
    "for line in pattern:\n",
    "    print(line)"
   ]
  },
  {
   "cell_type": "code",
   "execution_count": 1,
   "id": "6350728e-677f-4106-9870-ee250f9698cb",
   "metadata": {},
   "outputs": [
    {
     "name": "stdin",
     "output_type": "stream",
     "text": [
      "Enter rows: 5\n"
     ]
    },
    {
     "name": "stdout",
     "output_type": "stream",
     "text": [
      "1\n",
      "12\n",
      "123\n",
      "1234\n",
      "12345\n"
     ]
    }
   ],
   "source": [
    "rows=int(input(\"Enter rows:\"))\n",
    "pattern=[''.join([str(num) for num in range(1,i+1)])for i in range(1,rows+1)]\n",
    "for line in pattern:\n",
    "    print(line)"
   ]
  },
  {
   "cell_type": "code",
   "execution_count": 13,
   "id": "8134966f-3178-4948-a21d-7354d5de90cb",
   "metadata": {},
   "outputs": [
    {
     "name": "stdin",
     "output_type": "stream",
     "text": [
      "Enter rows: 4\n"
     ]
    },
    {
     "name": "stdout",
     "output_type": "stream",
     "text": [
      "A\n",
      "AB\n",
      "ABC\n",
      "ABCD\n"
     ]
    }
   ],
   "source": [
    "#uppercase\n",
    "rows=int(input(\"Enter rows:\"))\n",
    "pattern=[''.join([chr(65+j) for j in range(i)])for i in range(1,rows+1)]\n",
    "for line in pattern:\n",
    "    print(line)\n",
    "    "
   ]
  },
  {
   "cell_type": "code",
   "execution_count": 17,
   "id": "d548f815-b309-4bb1-9869-d648ea672df0",
   "metadata": {},
   "outputs": [
    {
     "name": "stdin",
     "output_type": "stream",
     "text": [
      "Enter rows: 6\n"
     ]
    },
    {
     "name": "stdout",
     "output_type": "stream",
     "text": [
      "a\n",
      "ab\n",
      "abc\n",
      "abcd\n",
      "abcde\n",
      "abcdef\n"
     ]
    }
   ],
   "source": [
    "#lowercase\n",
    "rows=int(input(\"Enter rows:\"))\n",
    "pattern=[''.join([chr(97+j) for j in range(i)])for i in range(1,rows+1)]\n",
    "for line in pattern:\n",
    "    print(line)\n",
    "    "
   ]
  },
  {
   "cell_type": "code",
   "execution_count": 9,
   "id": "e755e138-be71-4068-b0c3-53f7144fdbff",
   "metadata": {},
   "outputs": [
    {
     "name": "stdin",
     "output_type": "stream",
     "text": [
      "Enter rows: 5\n"
     ]
    },
    {
     "name": "stdout",
     "output_type": "stream",
     "text": [
      "    *\n",
      "   ***\n",
      "  *****\n",
      " *******\n",
      "*********\n"
     ]
    }
   ],
   "source": [
    "rows=int(input(\"Enter rows:\"))\n",
    "pattern=[(' ' * (rows-i) + '*' * (2*i-1))for i in range(1,rows+1)]\n",
    "for line in pattern:\n",
    "    print(line)"
   ]
  },
  {
   "cell_type": "code",
   "execution_count": 11,
   "id": "8a7da6d7-1a61-40ca-97f8-e570dae92ab9",
   "metadata": {},
   "outputs": [
    {
     "name": "stdin",
     "output_type": "stream",
     "text": [
      "Enter rows: 5\n"
     ]
    },
    {
     "name": "stdout",
     "output_type": "stream",
     "text": [
      "12345\n",
      "1234\n",
      "123\n",
      "12\n",
      "1\n"
     ]
    }
   ],
   "source": [
    "#reverse numbers\n",
    "rows=int(input(\"Enter rows:\"))\n",
    "pattern=[''.join([str(num) for num in range(1,rows-i+1)])for i in range(rows)]\n",
    "for line in pattern:\n",
    "    print(line)\n",
    "    "
   ]
  },
  {
   "cell_type": "code",
   "execution_count": 7,
   "id": "9ecb4fc4-5bf8-4baa-b7b2-c4542db08ad9",
   "metadata": {},
   "outputs": [
    {
     "name": "stdin",
     "output_type": "stream",
     "text": [
      "Enter rows: 5\n"
     ]
    },
    {
     "name": "stdout",
     "output_type": "stream",
     "text": [
      "*  *  *  *  * \n",
      "*           * \n",
      "*           * \n",
      "*           * \n",
      "*  *  *  *  * \n"
     ]
    }
   ],
   "source": [
    "\n",
    "n=int(input(\"Enter rows:\"))\n",
    "pattern=[['* '  if i==0 or i==n-1 or j==0 or j==n-1 else '  ' for i in range(n)]for j in range(n)]\n",
    "for i in pattern:\n",
    "    print(' '.join(i))\n",
    "    "
   ]
  },
  {
   "cell_type": "code",
   "execution_count": 21,
   "id": "8e5de07e-0ba4-41d1-ae33-7c1f011bb69b",
   "metadata": {},
   "outputs": [
    {
     "name": "stdin",
     "output_type": "stream",
     "text": [
      "Enter rows: 5\n"
     ]
    },
    {
     "name": "stdout",
     "output_type": "stream",
     "text": [
      "*  *  *  *  * \n",
      "*  *        * \n",
      "*     *     * \n",
      "*        *  * \n",
      "*  *  *  *  * \n"
     ]
    }
   ],
   "source": [
    "n=int(input(\"Enter rows:\"))\n",
    "pattern=[['* '  if i==0 or i==n-1 or j==0 or j==n-1 or i==j else '  ' for i in range(n)]for j in range(n)]\n",
    "for i in pattern:\n",
    "    print(' '.join(i))\n",
    "    "
   ]
  },
  {
   "cell_type": "code",
   "execution_count": 3,
   "id": "718ae064-5629-4cbf-a437-2b955db7eb83",
   "metadata": {},
   "outputs": [
    {
     "name": "stdin",
     "output_type": "stream",
     "text": [
      "Enter rows: 5\n"
     ]
    },
    {
     "name": "stdout",
     "output_type": "stream",
     "text": [
      "*           * \n",
      "*  *     *  * \n",
      "*     *     * \n",
      "*  *     *  * \n",
      "*           * \n"
     ]
    }
   ],
   "source": [
    "n=int(input(\"Enter rows:\"))\n",
    "pattern=[['* '  if  i==0 or i==n-1 or i==j or i+j==n-1 else '  ' for i in range(n)]for j in range(n)]\n",
    "for i in pattern:\n",
    "    print(' '.join(i))"
   ]
  },
  {
   "cell_type": "code",
   "execution_count": 5,
   "id": "2f5a5784-d217-4930-a134-9754f0723ead",
   "metadata": {},
   "outputs": [
    {
     "name": "stdin",
     "output_type": "stream",
     "text": [
      "enter rows: 5\n"
     ]
    },
    {
     "name": "stdout",
     "output_type": "stream",
     "text": [
      "     *\n",
      "    * *\n",
      "   *   *\n",
      "  *     *\n",
      " *       *\n",
      "  *     *  \n",
      "   *   *  \n",
      "    * *  \n",
      "     *  \n"
     ]
    }
   ],
   "source": [
    "n=int(input(\"enter rows:\"))\n",
    "up=[' '*(n-i)+''.join('*' if j==0 or j==2*i else ' ' for j in range(2*i+1)) for i in range(n)]\n",
    "lo=[' '*(i+2)+''.join('*' if j==0 or j==2*(n-i-2)else ' ' for j in range(2*(n-i)-1)) for i in range(n-1)]\n",
    "for line in up+lo:\n",
    "    print(line)"
   ]
  },
  {
   "cell_type": "code",
   "execution_count": null,
   "id": "c42efa88-a797-47ed-a88a-7c7c4966c78a",
   "metadata": {},
   "outputs": [],
   "source": []
  },
  {
   "cell_type": "code",
   "execution_count": null,
   "id": "a3c08db4-e226-4e80-921a-732488597df2",
   "metadata": {},
   "outputs": [],
   "source": []
  },
  {
   "cell_type": "code",
   "execution_count": null,
   "id": "ca5f896f-4157-46ca-ade5-5bd13a56bf15",
   "metadata": {},
   "outputs": [],
   "source": []
  }
 ],
 "metadata": {
  "kernelspec": {
   "display_name": "Python 3 (ipykernel)",
   "language": "python",
   "name": "python3"
  },
  "language_info": {
   "codemirror_mode": {
    "name": "ipython",
    "version": 3
   },
   "file_extension": ".py",
   "mimetype": "text/x-python",
   "name": "python",
   "nbconvert_exporter": "python",
   "pygments_lexer": "ipython3",
   "version": "3.12.7"
  }
 },
 "nbformat": 4,
 "nbformat_minor": 5
}
