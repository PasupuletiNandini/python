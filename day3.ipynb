{
 "cells": [
  {
   "cell_type": "code",
   "execution_count": 3,
   "id": "e6433c9f-8497-4317-bd4f-1d49a311e426",
   "metadata": {},
   "outputs": [
    {
     "name": "stdin",
     "output_type": "stream",
     "text": [
      "Enter a number 25\n"
     ]
    },
    {
     "name": "stdout",
     "output_type": "stream",
     "text": [
      "25 24 23 22 21 20 19 18 17 16 15 14 13 12 11 10 9 8 7 6 5 4 3 2 1 "
     ]
    }
   ],
   "source": [
    "num=int(input(\"Enter a number\"))\n",
    "while num>=1:\n",
    "    print(num,end=' ')\n",
    "    num-=1"
   ]
  },
  {
   "cell_type": "code",
   "execution_count": 9,
   "id": "db016bdf-883e-4761-88f1-09bdfd522733",
   "metadata": {},
   "outputs": [
    {
     "name": "stdin",
     "output_type": "stream",
     "text": [
      "Enter a number 123\n"
     ]
    },
    {
     "name": "stdout",
     "output_type": "stream",
     "text": [
      "sum of digits is 6\n"
     ]
    }
   ],
   "source": [
    "# write a code to print the sum of digits\n",
    "num=int(input(\"Enter a number\"))\n",
    "sum=0\n",
    "while num>0:\n",
    "    digit=num%10\n",
    "    sum+=digit\n",
    "    num=num//10\n",
    "print(\"sum of digits is\", sum)"
   ]
  },
  {
   "cell_type": "code",
   "execution_count": 13,
   "id": "2ec60587-1905-4fcd-8890-07a0decafe7a",
   "metadata": {},
   "outputs": [
    {
     "name": "stdin",
     "output_type": "stream",
     "text": [
      "Enter a number 1234\n"
     ]
    },
    {
     "name": "stdout",
     "output_type": "stream",
     "text": [
      "reverse number is 4321\n"
     ]
    }
   ],
   "source": [
    "# write a code to print the evers of a number\n",
    "num=int(input(\"Enter a number\"))\n",
    "rev=0\n",
    "while num>0:\n",
    "    digit=num%10\n",
    "    rev=rev*10+digit\n",
    "    num=num//10\n",
    "print(\"reverse number is\",rev)"
   ]
  },
  {
   "cell_type": "code",
   "execution_count": 9,
   "id": "2f26c653-1c28-43e5-9d53-719f35a29b3a",
   "metadata": {},
   "outputs": [
    {
     "name": "stdin",
     "output_type": "stream",
     "text": [
      "enter a number: 153\n"
     ]
    },
    {
     "name": "stdout",
     "output_type": "stream",
     "text": [
      "Latest value of sum: 153\n",
      "Latest value of temp: 0\n",
      "153 it is a arm strong number\n"
     ]
    }
   ],
   "source": [
    "# Arm strong Number\n",
    "\n",
    "num=int(input(\"enter a number:\"))\n",
    "temp=num\n",
    "n=len(str(num))\n",
    "sum=0\n",
    "while temp!=0:\n",
    "    digit=temp%10\n",
    "    sum+=digit **n\n",
    "    temp//=10\n",
    "print(\"Latest value of sum:\",sum)\n",
    "print(\"Latest value of temp:\",temp)\n",
    "if sum==num:\n",
    "    print(num,\"it is a arm strong number\")\n",
    "else:\n",
    "     print(num,\"it is not an arm strong number\")"
   ]
  },
  {
   "cell_type": "code",
   "execution_count": 1,
   "id": "7c74f074-36e3-4c53-a478-9d01aa2b2abd",
   "metadata": {},
   "outputs": [
    {
     "name": "stdin",
     "output_type": "stream",
     "text": [
      "Enter a number: 156\n"
     ]
    },
    {
     "name": "stdout",
     "output_type": "stream",
     "text": [
      "156 it is a nivens number\n"
     ]
    }
   ],
   "source": [
    "## Nivens/ Harshad Number\n",
    "num=int(input(\"Enter a number:\"))\n",
    "temp=num\n",
    "sum=0\n",
    "while temp>0:\n",
    "    digit=temp%10\n",
    "    sum+=digit\n",
    "    temp//=10\n",
    "if temp%sum==0:\n",
    "    print(num, \"it is a nivens number\")\n",
    "else:\n",
    "    print(num, \"it is not a nivens number\")"
   ]
  },
  {
   "cell_type": "code",
   "execution_count": 7,
   "id": "44b6c72b-3a2e-4958-b953-0e7c2119c26e",
   "metadata": {},
   "outputs": [
    {
     "name": "stdout",
     "output_type": "stream",
     "text": [
      "1 5 9 "
     ]
    }
   ],
   "source": [
    "for i in range(1,11,4):\n",
    "    print(i, end=\" \")\n",
    "    "
   ]
  },
  {
   "cell_type": "code",
   "execution_count": 11,
   "id": "3f129e67-6563-4711-ba8d-266653d4029e",
   "metadata": {},
   "outputs": [
    {
     "name": "stdin",
     "output_type": "stream",
     "text": [
      "Enter a word: syam prakash\n"
     ]
    },
    {
     "name": "stdout",
     "output_type": "stream",
     "text": [
      "s\n",
      "y\n",
      "a\n",
      "m\n",
      " \n",
      "p\n",
      "r\n",
      "a\n",
      "k\n",
      "a\n",
      "s\n",
      "h\n"
     ]
    }
   ],
   "source": [
    "word=input(\"Enter a word:\")\n",
    "for ch in word:\n",
    "    print(ch)"
   ]
  },
  {
   "cell_type": "code",
   "execution_count": 7,
   "id": "a2e4553a-5740-4bb9-a140-7e3a830def2f",
   "metadata": {},
   "outputs": [
    {
     "name": "stdout",
     "output_type": "stream",
     "text": [
      "10 9 8 7 6 5 4 3 2 1 0 "
     ]
    }
   ],
   "source": [
    "for i in range(10,-1,-1):\n",
    "    print(i, end=\" \")"
   ]
  },
  {
   "cell_type": "code",
   "execution_count": 9,
   "id": "578b8a3f-5773-47f8-a92f-952cbd15b29a",
   "metadata": {},
   "outputs": [
    {
     "name": "stdout",
     "output_type": "stream",
     "text": [
      "100 81 64 49 36 25 16 9 4 1 0 "
     ]
    }
   ],
   "source": [
    "for i in range(10,-1,-1):\n",
    "    print(i**2, end=\" \")"
   ]
  },
  {
   "cell_type": "code",
   "execution_count": 23,
   "id": "f1a452fc-b70f-491e-9a4f-13ef7ba39a39",
   "metadata": {},
   "outputs": [
    {
     "name": "stdout",
     "output_type": "stream",
     "text": [
      "Square of 1 is 1\n",
      "Square of 2 is 4\n",
      "Square of 3 is 9\n",
      "Square of 4 is 16\n",
      "Square of 5 is 25\n",
      "Square of 6 is 36\n",
      "Square of 7 is 49\n",
      "Square of 8 is 64\n",
      "Square of 9 is 81\n",
      "Square of 10 is 100\n"
     ]
    }
   ],
   "source": [
    "for i in range(1,11):\n",
    "    print(f\"Square of {i} is\", i*i)"
   ]
  },
  {
   "cell_type": "code",
   "execution_count": 33,
   "id": "7a6602f8-3850-4fb8-b281-6f4dc2671066",
   "metadata": {},
   "outputs": [
    {
     "name": "stdin",
     "output_type": "stream",
     "text": [
      "Enter a number: 12\n"
     ]
    },
    {
     "name": "stdout",
     "output_type": "stream",
     "text": [
      "12*1= 12\n",
      "12*2= 24\n",
      "12*3= 36\n",
      "12*4= 48\n",
      "12*5= 60\n",
      "12*6= 72\n",
      "12*7= 84\n",
      "12*8= 96\n",
      "12*9= 108\n",
      "12*10= 120\n"
     ]
    }
   ],
   "source": [
    "num=int(input(\"Enter a number:\"))\n",
    "for i in range(1,11):\n",
    "    print(f\"{num}*{i}= {num*i}\") "
   ]
  },
  {
   "cell_type": "code",
   "execution_count": 35,
   "id": "23a67029-37f3-4702-8e03-a7fc09b0f133",
   "metadata": {},
   "outputs": [
    {
     "name": "stdout",
     "output_type": "stream",
     "text": [
      "I\n",
      "n\n",
      "d\n",
      "i\n",
      "a\n",
      " \n",
      " \n",
      " \n",
      "w\n",
      "o\n",
      "n\n"
     ]
    }
   ],
   "source": [
    "for i in \"India   won\":\n",
    "    print(i)"
   ]
  },
  {
   "cell_type": "code",
   "execution_count": 55,
   "id": "4f694f7e-ea07-4061-8a7b-6f99487d9f78",
   "metadata": {},
   "outputs": [
    {
     "name": "stdin",
     "output_type": "stream",
     "text": [
      "Enter a number: 5\n"
     ]
    },
    {
     "name": "stdout",
     "output_type": "stream",
     "text": [
      "factorial of a 5 is 120\n"
     ]
    }
   ],
   "source": [
    "# Factorial number\n",
    "n=int(input(\"Enter a number:\"))\n",
    "for i in range(1,n+1):\n",
    "    if i==1:\n",
    "        fact=1\n",
    "    else:\n",
    "        fact*=i\n",
    "print(f\"factorial of a {n} is {fact}\")"
   ]
  },
  {
   "cell_type": "code",
   "execution_count": 59,
   "id": "d54a5753-02b9-4f53-b3e0-76d9782280be",
   "metadata": {},
   "outputs": [
    {
     "name": "stdin",
     "output_type": "stream",
     "text": [
      "Enter a number: 5\n"
     ]
    },
    {
     "name": "stdout",
     "output_type": "stream",
     "text": [
      "120\n"
     ]
    }
   ],
   "source": [
    "n=int(input(\"Enter a number:\"))\n",
    "fact=1\n",
    "for i in range(1,n+1):\n",
    "    fact*=i\n",
    "print(fact)"
   ]
  },
  {
   "cell_type": "code",
   "execution_count": 71,
   "id": "cada1bad-8fe0-454c-bb60-07e152dfdae1",
   "metadata": {},
   "outputs": [
    {
     "name": "stdin",
     "output_type": "stream",
     "text": [
      "Enter the size: 5\n"
     ]
    },
    {
     "name": "stdout",
     "output_type": "stream",
     "text": [
      "* * * * * \n",
      "* * * * * \n",
      "* * * * * \n",
      "* * * * * \n",
      "* * * * * \n"
     ]
    }
   ],
   "source": [
    "n=int(input(\"Enter the size:\"))\n",
    "for i in range(n):\n",
    "    for j in range(n):\n",
    "        print(\"*\", end=' ')\n",
    "    print()"
   ]
  },
  {
   "cell_type": "code",
   "execution_count": 77,
   "id": "b357b5e0-a583-4c5d-9451-c4891d45b108",
   "metadata": {},
   "outputs": [
    {
     "name": "stdin",
     "output_type": "stream",
     "text": [
      "Enter the size: 5\n"
     ]
    },
    {
     "name": "stdout",
     "output_type": "stream",
     "text": [
      "* * * * * \n",
      "*       * \n",
      "*       * \n",
      "*       * \n",
      "* * * * * \n"
     ]
    }
   ],
   "source": [
    "n=int(input(\"Enter the size:\"))\n",
    "for i in range(n):\n",
    "    for j in range(n):\n",
    "        if i==0 or i==n-1 or j==0 or j==n-1:\n",
    "            print(\"*\", end=' ')\n",
    "        else:\n",
    "            print(\" \", end=\" \")\n",
    "    print()"
   ]
  },
  {
   "cell_type": "code",
   "execution_count": null,
   "id": "9bab29c2-b819-404a-912e-59fb4320f1b6",
   "metadata": {},
   "outputs": [],
   "source": []
  }
 ],
 "metadata": {
  "kernelspec": {
   "display_name": "Python 3 (ipykernel)",
   "language": "python",
   "name": "python3"
  },
  "language_info": {
   "codemirror_mode": {
    "name": "ipython",
    "version": 3
   },
   "file_extension": ".py",
   "mimetype": "text/x-python",
   "name": "python",
   "nbconvert_exporter": "python",
   "pygments_lexer": "ipython3",
   "version": "3.12.7"
  }
 },
 "nbformat": 4,
 "nbformat_minor": 5
}
