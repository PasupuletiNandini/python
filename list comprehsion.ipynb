{
 "cells": [
  {
   "cell_type": "code",
   "execution_count": 1,
   "id": "ab423ac4-774b-4355-8baf-485c8f3547a1",
   "metadata": {},
   "outputs": [
    {
     "name": "stdin",
     "output_type": "stream",
     "text": [
      "Enter number1: 2\n",
      "Enter number2: 3\n",
      "Enter number3: 3\n",
      "Enter number4: 2\n",
      "Enter number5: 1\n",
      "Enter number6: 4\n",
      "Enter number7: 4\n",
      "Enter number8: 5\n",
      "Enter number9: 6\n",
      "Enter number10: 7\n"
     ]
    },
    {
     "name": "stdout",
     "output_type": "stream",
     "text": [
      "[2, 3, 3, 2, 1, 4, 4, 5, 6, 7]\n"
     ]
    }
   ],
   "source": [
    "#step-by-step input of lc\n",
    "nums=[int(input(f\"Enter number{i+1}:\"))for i in range(10)]\n",
    "print(nums)"
   ]
  },
  {
   "cell_type": "code",
   "execution_count": 9,
   "id": "7a42af9d-bae6-4865-b480-c6dfccede993",
   "metadata": {},
   "outputs": [
    {
     "name": "stdin",
     "output_type": "stream",
     "text": [
      "enter 5 nums wit space 4 3 2 1 3 4 5 3 3 4\n"
     ]
    },
    {
     "name": "stdout",
     "output_type": "stream",
     "text": [
      "[4, 3, 2, 1, 3]\n"
     ]
    }
   ],
   "source": [
    "n=[int(x) for x in input(\"enter 5 nums wit space\").split()[:5]]\n",
    "print(n)"
   ]
  },
  {
   "cell_type": "code",
   "execution_count": 11,
   "id": "0a3997ce-fa92-42e7-8e01-f66587c8c2ae",
   "metadata": {},
   "outputs": [
    {
     "name": "stdin",
     "output_type": "stream",
     "text": [
      "enter thr table size 5\n"
     ]
    },
    {
     "name": "stdout",
     "output_type": "stream",
     "text": [
      "Tables of math\n",
      "[1, 2, 3, 4, 5]\n",
      "[2, 4, 6, 8, 10]\n",
      "[3, 6, 9, 12, 15]\n",
      "[4, 8, 12, 16, 20]\n",
      "[5, 10, 15, 20, 25]\n"
     ]
    }
   ],
   "source": [
    "#nested lc loop within loop in a single :LC\n",
    "n=int(input(\"enter thr table size\"))\n",
    "table=[[i *j for j in range(1,n+1)] for i in range(1,n+1)]\n",
    "print(\"Tables of math\")\n",
    "for row in table:\n",
    "    print(row)"
   ]
  },
  {
   "cell_type": "code",
   "execution_count": 27,
   "id": "3d2fc2d3-f5cd-45d5-a5d2-5819c8cb38c7",
   "metadata": {},
   "outputs": [
    {
     "data": {
      "text/plain": [
       "'create a nXn matrix with manual input numbers ny input seperated spaces print all the rows in LC only\\nn=int(input(\"enter the size:\"))\\nnums=[int(x) for x in input(\"enert\",n*n,\" 16 numbers with spaces\").split()[:16]]\\nmatrix=[[nums[i*4+j]for j in range(n=1)] for i in range (n+1)]\\nfor rows in matrix:\\n     print(rows)'"
      ]
     },
     "execution_count": 27,
     "metadata": {},
     "output_type": "execute_result"
    }
   ],
   "source": [
    "'''create a nXn matrix with manual input numbers ny input seperated spaces print all the rows in LC only\n",
    "n=int(input(\"enter the size:\"))\n",
    "nums=[int(x) for x in input(\"enert\",n*n,\" 16 numbers with spaces\").split()[:16]]\n",
    "matrix=[[nums[i*4+j]for j in range(n=1)] for i in range (n+1)]\n",
    "for rows in matrix:\n",
    "     print(rows)'''\n"
   ]
  },
  {
   "cell_type": "code",
   "execution_count": 13,
   "id": "024adc13-f456-4675-a466-828db5516b10",
   "metadata": {},
   "outputs": [
    {
     "name": "stdin",
     "output_type": "stream",
     "text": [
      "enter 9 numberswith space 1 2 3 4 5 6 7 8 9\n"
     ]
    },
    {
     "name": "stdout",
     "output_type": "stream",
     "text": [
      "[1, 2, 3]\n",
      "[4, 5, 6]\n",
      "[7, 8, 9]\n",
      "[1, 4, 7]\n",
      "[2, 5, 8]\n",
      "[3, 6, 9]\n"
     ]
    }
   ],
   "source": [
    "#transposse 3  x3\n",
    "nums=input(\"enter 9 numberswith space\").split()\n",
    "if len(nums)!=9:\n",
    "    print(\"enter exactl 9 numbers:\")\n",
    "else:\n",
    "    numbers=[int(x) for x in nums]\n",
    "    matrix=[[numbers[i*3+j] for j in range(3)]for i in range(3)]\n",
    "    transpose=[[matrix[i][j] for i in range(3)] for j in range(3)]\n",
    "    for r in matrix:\n",
    "        print(r)\n",
    "    for r in transpose:\n",
    "        print(r)"
   ]
  },
  {
   "cell_type": "code",
   "execution_count": 44,
   "id": "fc9a8b22-d141-4ba9-b744-53d8d98646ba",
   "metadata": {},
   "outputs": [
    {
     "name": "stdin",
     "output_type": "stream",
     "text": [
      "enter size: 3\n",
      "enter numbers 1 2 3 12 3 1 1 1 1\n"
     ]
    },
    {
     "name": "stdout",
     "output_type": "stream",
     "text": [
      "[1, 2, 3]\n",
      "[12, 3, 1]\n",
      "[1, 1, 1]\n",
      "[1, 2, 3, 12, 3, 1, 1, 1, 1]\n"
     ]
    }
   ],
   "source": [
    "#flatter n/n array\n",
    "n=int(input(\"enter size:\"))\n",
    "num=[int(x) for x in input(\"enter numbers\").split()[:n*n]]\n",
    "matrix=[[num[i*n+j] for j in range(n)]for i in range(n)]\n",
    "for k in matrix:\n",
    "    print(k)\n",
    "flat=[k for r in matrix for k in r]\n",
    "print(flat)"
   ]
  },
  {
   "cell_type": "code",
   "execution_count": 50,
   "id": "beb1121e-361b-493e-914b-86a4831a425b",
   "metadata": {},
   "outputs": [
    {
     "name": "stdin",
     "output_type": "stream",
     "text": [
      "enter size: 4\n",
      "enter numbers 1 1 1 1 2 2 2 2 3 3 3 3 4 4 4 4\n"
     ]
    },
    {
     "name": "stdout",
     "output_type": "stream",
     "text": [
      "[1, 1, 1, 1]\n",
      "[2, 2, 2, 2]\n",
      "[3, 3, 3, 3]\n",
      "[4, 4, 4, 4]\n",
      "[1, 1, 1, 1, 2, 2, 2, 2, 3, 3, 3, 3, 4, 4, 4, 4]\n"
     ]
    }
   ],
   "source": [
    "n=int(input(\"enter size:\"))\n",
    "num=[int(x) for x in input(\"enter numbers\").split()[:n*n]]\n",
    "matrix=[[num[i*n+j] for j in range(n)]for i in range(n)]\n",
    "for k in matrix:\n",
    "    print(k)\n",
    "flat=[k for r in matrix for k in r]\n",
    "print(flat)"
   ]
  },
  {
   "cell_type": "code",
   "execution_count": 3,
   "id": "4c4926a3-9c91-4cb5-b45e-ec67ddad50a9",
   "metadata": {},
   "outputs": [
    {
     "name": "stdin",
     "output_type": "stream",
     "text": [
      "enter 9 numbers with space  1 2 3 4 5 6 7 8 9\n"
     ]
    },
    {
     "name": "stdout",
     "output_type": "stream",
     "text": [
      "[1, 4, 9]\n",
      "[16, 25, 36]\n",
      "[49, 64, 81]\n"
     ]
    }
   ],
   "source": [
    "nums=input(\"enter 9 numbers with space\").split()\n",
    "if len(nums)!=9:\n",
    "    print(\"enter exactly 9 numbers:\")\n",
    "else:\n",
    "    numbers=[int(x) for x in nums]\n",
    "    matrix=[[numbers[i*3+j]**2 for j in range(3)]for i in range(3)]\n",
    "for r in matrix:\n",
    "        print(r)"
   ]
  },
  {
   "cell_type": "code",
   "execution_count": 5,
   "id": "cef91944-d668-4f57-bf2a-435adcaa87fa",
   "metadata": {},
   "outputs": [
    {
     "name": "stdin",
     "output_type": "stream",
     "text": [
      "enter size: 3\n",
      "enter numbers 1 2 3 4 5 6 7 8 9\n"
     ]
    },
    {
     "name": "stdout",
     "output_type": "stream",
     "text": [
      "[1, 4, 9]\n",
      "[16, 25, 36]\n",
      "[49, 64, 81]\n",
      "[1, 4, 9, 16, 25, 36, 49, 64, 81]\n"
     ]
    }
   ],
   "source": [
    "#flatter n/n array square\n",
    "n=int(input(\"enter size:\"))\n",
    "num=[int(x) for x in input(\"enter numbers\").split()[:n*n]]\n",
    "matrix=[[num[i*n+j]**2 for j in range(n)]for i in range(n)]\n",
    "for k in matrix:\n",
    "    print(k)\n",
    "flat=[k for r in matrix for k in r]\n",
    "print(flat)"
   ]
  },
  {
   "cell_type": "code",
   "execution_count": 3,
   "id": "9224925f-bf2a-4200-8a23-04d81276a307",
   "metadata": {},
   "outputs": [
    {
     "name": "stdin",
     "output_type": "stream",
     "text": [
      "enter size: 3\n",
      "enter numbers 1 2 3 4 5 6 7 8 9\n"
     ]
    },
    {
     "name": "stdout",
     "output_type": "stream",
     "text": [
      "[0, 2, 0]\n",
      "[4, 0, 6]\n",
      "[0, 8, 0]\n"
     ]
    }
   ],
   "source": [
    "n=int(input(\"enter size:\"))\n",
    "num=[int(x) for x in input(\"enter numbers\").split()[:n*n]]\n",
    "matrix=[[num[i*n+j] if num[i*n+j]%2==0 else 0 for j in range(n)]for i in range(n)]\n",
    "for k in matrix:\n",
    "    print(k)"
   ]
  },
  {
   "cell_type": "code",
   "execution_count": 5,
   "id": "8bf4d503-59f8-465f-83ac-2077fabd3715",
   "metadata": {},
   "outputs": [
    {
     "name": "stdin",
     "output_type": "stream",
     "text": [
      "enter size: 3\n",
      "enter numbers 1 2 3 4 5 6 7 8 9\n"
     ]
    },
    {
     "name": "stdout",
     "output_type": "stream",
     "text": [
      "[1, 0, 3]\n",
      "[0, 5, 0]\n",
      "[7, 0, 9]\n"
     ]
    }
   ],
   "source": [
    "n=int(input(\"enter size:\"))\n",
    "num=[int(x) for x in input(\"enter numbers\").split()[:n*n]]\n",
    "matrix=[[num[i*n+j] if num[i*n+j]%2==1 else 0 for j in range(n)]for i in range(n)]\n",
    "for k in matrix:\n",
    "    print(k)"
   ]
  },
  {
   "cell_type": "code",
   "execution_count": 15,
   "id": "d9a69d8c-3578-4395-8b25-6249dfadc7f1",
   "metadata": {},
   "outputs": [
    {
     "name": "stdin",
     "output_type": "stream",
     "text": [
      "enter size: 3 \n",
      "enter numbers 1 2 3 4 5 6 7 8 9\n"
     ]
    },
    {
     "name": "stdout",
     "output_type": "stream",
     "text": [
      "[0, 1, 0]\n",
      "[1, 0, 1]\n",
      "[0, 1, 0]\n"
     ]
    }
   ],
   "source": [
    "n=int(input(\"enter size:\"))\n",
    "num=[int(x) for x in input(\"enter numbers\").split()[:n*n]]\n",
    "matrix=[[1 if num[i*n+j]%2==0 else 0 for j in range(n)]for i in range(n)]\n",
    "for k in matrix:\n",
    "    print(k)"
   ]
  },
  {
   "cell_type": "code",
   "execution_count": null,
   "id": "ca217070-ba58-493b-9054-a0c94457a3b2",
   "metadata": {},
   "outputs": [],
   "source": []
  },
  {
   "cell_type": "code",
   "execution_count": null,
   "id": "eb1b722c-c5ef-48f5-bbbe-9eff2613e74d",
   "metadata": {},
   "outputs": [],
   "source": []
  }
 ],
 "metadata": {
  "kernelspec": {
   "display_name": "Python 3 (ipykernel)",
   "language": "python",
   "name": "python3"
  },
  "language_info": {
   "codemirror_mode": {
    "name": "ipython",
    "version": 3
   },
   "file_extension": ".py",
   "mimetype": "text/x-python",
   "name": "python",
   "nbconvert_exporter": "python",
   "pygments_lexer": "ipython3",
   "version": "3.12.7"
  }
 },
 "nbformat": 4,
 "nbformat_minor": 5
}
