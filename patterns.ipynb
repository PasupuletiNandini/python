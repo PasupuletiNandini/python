{
 "cells": [
  {
   "cell_type": "code",
   "execution_count": 1,
   "id": "bf6c87db-5a8a-4f9e-8443-c155da4167a0",
   "metadata": {},
   "outputs": [
    {
     "name": "stdin",
     "output_type": "stream",
     "text": [
      "entr the size of n 4\n"
     ]
    },
    {
     "name": "stdout",
     "output_type": "stream",
     "text": [
      "^ ^ ^ ^ \n",
      "^ ^ ^ ^ \n",
      "^ ^ ^ ^ \n",
      "^ ^ ^ ^ \n"
     ]
    }
   ],
   "source": [
    "#nesed loop\n",
    "n=int(input(\"entr the size of n\"))\n",
    "for i in range(n):\n",
    "    for j in range(n):\n",
    "        print('^',end=' ')\n",
    "    print()       \n"
   ]
  },
  {
   "cell_type": "code",
   "execution_count": 7,
   "id": "18ccd3f1-d449-45bc-9d39-a77b157868e2",
   "metadata": {},
   "outputs": [
    {
     "name": "stdin",
     "output_type": "stream",
     "text": [
      "entr the size of n 6\n"
     ]
    },
    {
     "name": "stdout",
     "output_type": "stream",
     "text": [
      "\n",
      "* \n",
      "* * \n",
      "* * * \n",
      "* * * * \n",
      "* * * * * \n"
     ]
    }
   ],
   "source": [
    "#right angle triangle\n",
    "n=int(input(\"entr the size of n\"))\n",
    "for i in range(n):\n",
    "    for j in range(i):\n",
    "        print('*',end=' ')\n",
    "    print()  "
   ]
  },
  {
   "cell_type": "code",
   "execution_count": 54,
   "id": "ef2ec31a-cd55-49a9-93c8-14463c62a0f5",
   "metadata": {},
   "outputs": [
    {
     "name": "stdin",
     "output_type": "stream",
     "text": [
      "entr the size of n 4\n"
     ]
    },
    {
     "name": "stdout",
     "output_type": "stream",
     "text": [
      "* * * * \n",
      "* * * * \n",
      "* * * * \n",
      "* * * * \n"
     ]
    }
   ],
   "source": [
    "n=int(input(\"entr the size of n\"))\n",
    "for i in range(n):\n",
    "    for j in range(n):\n",
    "        print('*',end=' ')\n",
    "    print()  "
   ]
  },
  {
   "cell_type": "code",
   "execution_count": 48,
   "id": "c30ff01e-f21c-4977-bef6-38ff6e797c82",
   "metadata": {},
   "outputs": [
    {
     "name": "stdout",
     "output_type": "stream",
     "text": [
      "\n",
      "*\n",
      "**\n",
      "***\n",
      "****\n"
     ]
    }
   ],
   "source": [
    "#right angle triangle using a single for loop\n",
    "for i in range(5):\n",
    "    print(\"*\" *i)\n"
   ]
  },
  {
   "cell_type": "code",
   "execution_count": 27,
   "id": "1c744f85-d90b-465f-b4d8-d57d1a41f6a7",
   "metadata": {},
   "outputs": [
    {
     "name": "stdout",
     "output_type": "stream",
     "text": [
      "* * * * * \n",
      "* * * * * \n",
      "* * * * * \n",
      "* * * * * \n",
      "* * * * * \n"
     ]
    }
   ],
   "source": [
    "for i in range(5):\n",
    "    print(\"* \" *5)"
   ]
  },
  {
   "cell_type": "code",
   "execution_count": 42,
   "id": "f226b5a6-8da4-4f00-90db-3ca764107687",
   "metadata": {},
   "outputs": [
    {
     "name": "stdin",
     "output_type": "stream",
     "text": [
      "entr the size of n 5\n"
     ]
    },
    {
     "name": "stdout",
     "output_type": "stream",
     "text": [
      "* * * * * \n",
      "*       * \n",
      "*       * \n",
      "*       * \n",
      "* * * * * \n"
     ]
    }
   ],
   "source": [
    "# hollow square\n",
    "n=int(input(\"entr the size of n\"))\n",
    "for i in range(n):\n",
    "    for j in range(n):\n",
    "        if i==0 or i==n-1 or j==0 or j==n-1:\n",
    "               print('*', end=' ')\n",
    "        else:\n",
    "            print(' ',end=' ')\n",
    "    print()    "
   ]
  },
  {
   "cell_type": "code",
   "execution_count": 60,
   "id": "c0745016-9780-47a4-b03a-e9324f672f62",
   "metadata": {},
   "outputs": [
    {
     "name": "stdin",
     "output_type": "stream",
     "text": [
      "entr the size of n 2\n"
     ]
    },
    {
     "name": "stdout",
     "output_type": "stream",
     "text": [
      "0 1 \n",
      "0 1 \n"
     ]
    }
   ],
   "source": [
    "n=int(input(\"entr the size of n\"))\n",
    "for i in range(n):\n",
    "    for j in range(n):\n",
    "        print(j,end=' ')\n",
    "    print()    "
   ]
  },
  {
   "cell_type": "code",
   "execution_count": 62,
   "id": "ef097424-6778-48a1-92f9-2da819576a78",
   "metadata": {},
   "outputs": [
    {
     "name": "stdin",
     "output_type": "stream",
     "text": [
      "entr the size of n 4\n"
     ]
    },
    {
     "name": "stdout",
     "output_type": "stream",
     "text": [
      "0 0 0 0 \n",
      "1 1 1 1 \n",
      "2 2 2 2 \n",
      "3 3 3 3 \n"
     ]
    }
   ],
   "source": [
    "n=int(input(\"entr the size of n\"))\n",
    "for i in range(n):\n",
    "    for j in range(n):\n",
    "        print(i,end=' ')\n",
    "    print()    "
   ]
  },
  {
   "cell_type": "code",
   "execution_count": 64,
   "id": "9560aa8e-953f-41dc-8c46-f530eeb5a041",
   "metadata": {},
   "outputs": [
    {
     "name": "stdin",
     "output_type": "stream",
     "text": [
      "entr the size of n 4\n"
     ]
    },
    {
     "name": "stdout",
     "output_type": "stream",
     "text": [
      "0 1 2 3 \n",
      "0 1 2 3 \n",
      "0 1 2 3 \n",
      "0 1 2 3 \n"
     ]
    }
   ],
   "source": [
    "n=int(input(\"entr the size of n\"))\n",
    "for i in range(n):\n",
    "    for j in range(n):\n",
    "        print(j,end=' ')\n",
    "    print()    "
   ]
  },
  {
   "cell_type": "code",
   "execution_count": 69,
   "id": "0301af44-c741-479a-834e-bec2053192df",
   "metadata": {},
   "outputs": [
    {
     "name": "stdout",
     "output_type": "stream",
     "text": [
      "n \n",
      "n a \n",
      "n a n \n",
      "n a n d \n",
      "n a n d i \n",
      "n a n d i n \n",
      "n a n d i n i \n"
     ]
    }
   ],
   "source": [
    "text='nandini'\n",
    "r=len(text)\n",
    "for i in range(r):\n",
    "    for j in range(i+1):\n",
    "        print(text[j],end=' ')\n",
    "    print()   \n"
   ]
  },
  {
   "cell_type": "code",
   "execution_count": 98,
   "id": "c019fb87-c029-40b1-85fc-720fd7211a94",
   "metadata": {},
   "outputs": [
    {
     "name": "stdin",
     "output_type": "stream",
     "text": [
      "entr the size of n 7\n"
     ]
    },
    {
     "name": "stdout",
     "output_type": "stream",
     "text": [
      "* * * * * * * \n",
      "* *         * \n",
      "*   *       * \n",
      "*     *     * \n",
      "*       *   * \n",
      "*         * * \n",
      "* * * * * * * \n"
     ]
    }
   ],
   "source": [
    "# hollow square\n",
    "n=int(input(\"entr the size of n\"))\n",
    "for i in range(n):\n",
    "    for j in range(n):\n",
    "        if i==0 or i==n-1 or j==0 or j==n-1 or i==j:\n",
    "               print('*', end=' ')\n",
    "        else:\n",
    "            print(' ',end=' ')\n",
    "    print()   "
   ]
  },
  {
   "cell_type": "code",
   "execution_count": 81,
   "id": "89a92e34-ad41-4ec4-8d61-cf481edbb59a",
   "metadata": {},
   "outputs": [
    {
     "name": "stdin",
     "output_type": "stream",
     "text": [
      "entr the size of n 7\n"
     ]
    },
    {
     "name": "stdout",
     "output_type": "stream",
     "text": [
      "* * * * * * * \n",
      "* *       * * \n",
      "*   *   *   * \n",
      "*     *     * \n",
      "*   *   *   * \n",
      "* *       * * \n",
      "* * * * * * * \n"
     ]
    }
   ],
   "source": [
    "# hollow square\n",
    "n=int(input(\"entr the size of n\"))\n",
    "for i in range(n):\n",
    "    for j in range(n):\n",
    "        if i==0 or i==n-1 or j==0 or j==n-1 or i==j or i+j==n-1:\n",
    "               print('*', end=' ')\n",
    "        else:\n",
    "            print(' ',end=' ')\n",
    "    print()   "
   ]
  },
  {
   "cell_type": "code",
   "execution_count": 88,
   "id": "99fbd969-6733-4dc7-af33-89ed0cd59827",
   "metadata": {},
   "outputs": [
    {
     "name": "stdin",
     "output_type": "stream",
     "text": [
      "entr the size of n 5\n"
     ]
    },
    {
     "name": "stdout",
     "output_type": "stream",
     "text": [
      "*       * \n",
      "  *   *   \n",
      "    *     \n",
      "  *   *   \n",
      "*       * \n"
     ]
    }
   ],
   "source": [
    "# hollow square\n",
    "n=int(input(\"entr the size of n\"))\n",
    "for i in range(n):\n",
    "    for j in range(n):\n",
    "        if  i==j or i+j==n-1:\n",
    "               print('*', end=' ')\n",
    "        else:\n",
    "            print(' ',end=' ')\n",
    "    print()   "
   ]
  },
  {
   "cell_type": "code",
   "execution_count": 94,
   "id": "70c36803-818c-4f76-b1df-7325139eead7",
   "metadata": {},
   "outputs": [
    {
     "name": "stdin",
     "output_type": "stream",
     "text": [
      "entr the size of n 7\n"
     ]
    },
    {
     "name": "stdout",
     "output_type": "stream",
     "text": [
      "* * * * * * * \n",
      "  *       *   \n",
      "    *   *     \n",
      "      *       \n",
      "    *   *     \n",
      "  *       *   \n",
      "* * * * * * * \n"
     ]
    }
   ],
   "source": [
    "n=int(input(\"entr the size of n\"))\n",
    "for i in range(n):\n",
    "    for j in range(n):\n",
    "        if i==0 or i==n-1 or i==j or i+j==n-1:\n",
    "               print('*', end=' ')\n",
    "        else:\n",
    "            print(' ',end=' ')\n",
    "    print()   "
   ]
  },
  {
   "cell_type": "code",
   "execution_count": 96,
   "id": "da720313-25a3-4395-a8e1-85dff10a30a0",
   "metadata": {},
   "outputs": [
    {
     "name": "stdin",
     "output_type": "stream",
     "text": [
      "entr the size of n 7\n"
     ]
    },
    {
     "name": "stdout",
     "output_type": "stream",
     "text": [
      "*           * \n",
      "* *       * * \n",
      "*   *   *   * \n",
      "*     *     * \n",
      "*   *   *   * \n",
      "* *       * * \n",
      "*           * \n"
     ]
    }
   ],
   "source": [
    "n=int(input(\"entr the size of n\"))\n",
    "for i in range(n):\n",
    "    for j in range(n):\n",
    "        if  j==0 or j==n-1 or i==j or i+j==n-1:\n",
    "               print('*', end=' ')\n",
    "        else:\n",
    "            print(' ',end=' ')\n",
    "    print()   "
   ]
  },
  {
   "cell_type": "code",
   "execution_count": 102,
   "id": "ba003a20-da70-45ce-9a5f-496e334c1ebb",
   "metadata": {},
   "outputs": [
    {
     "name": "stdin",
     "output_type": "stream",
     "text": [
      "entr the size of n 7\n"
     ]
    },
    {
     "name": "stdout",
     "output_type": "stream",
     "text": [
      "*           * \n",
      "* *       *   \n",
      "*   *   *     \n",
      "*     *       \n",
      "*   *   *     \n",
      "* *       *   \n",
      "*           * \n"
     ]
    }
   ],
   "source": [
    "n=int(input(\"entr the size of n\"))\n",
    "for i in range(n):\n",
    "    for j in range(n):\n",
    "        if  j==0  or i==j or i+j==n-1:\n",
    "               print('*', end=' ')\n",
    "        else:\n",
    "            print(' ',end=' ')\n",
    "    print() "
   ]
  },
  {
   "cell_type": "code",
   "execution_count": 104,
   "id": "265a8ca8-47c4-4339-b88d-ca75ac94dc42",
   "metadata": {},
   "outputs": [
    {
     "name": "stdin",
     "output_type": "stream",
     "text": [
      "entr the size of n 7\n"
     ]
    },
    {
     "name": "stdout",
     "output_type": "stream",
     "text": [
      "*           * \n",
      "  *       *   \n",
      "    *   *     \n",
      "      *       \n",
      "    *   *     \n",
      "  *       *   \n",
      "* * * * * * * \n"
     ]
    }
   ],
   "source": [
    "n=int(input(\"entr the size of n\"))\n",
    "for i in range(n):\n",
    "    for j in range(n):\n",
    "        if  i==n-1 or i==j or i+j==n-1:\n",
    "               print('*', end=' ')\n",
    "        else:\n",
    "            print(' ',end=' ')\n",
    "    print()   "
   ]
  },
  {
   "cell_type": "code",
   "execution_count": 108,
   "id": "00091e95-7d63-49c0-bc7f-6c19f79d4579",
   "metadata": {},
   "outputs": [
    {
     "name": "stdin",
     "output_type": "stream",
     "text": [
      "enter a number: 4\n"
     ]
    },
    {
     "name": "stdout",
     "output_type": "stream",
     "text": [
      "* * * * \n",
      "* * * \n",
      "* * \n",
      "* \n"
     ]
    }
   ],
   "source": [
    "#Inverted Triangle\n",
    "n = int(input(\"enter a number:\"))\n",
    "for i in range(n, 0, -1):\n",
    "    for j in range(i):\n",
    "        print(\"*\", end=\" \")\n",
    "    print()"
   ]
  },
  {
   "cell_type": "code",
   "execution_count": 110,
   "id": "a9e3ddc7-ee01-4910-97f7-3d6a8d8bdfa6",
   "metadata": {},
   "outputs": [
    {
     "name": "stdin",
     "output_type": "stream",
     "text": [
      "enter a number: 5\n"
     ]
    },
    {
     "name": "stdout",
     "output_type": "stream",
     "text": [
      "1 \n",
      "1 2 \n",
      "1 2 3 \n",
      "1 2 3 4 \n",
      "1 2 3 4 5 \n"
     ]
    }
   ],
   "source": [
    "#numbers triangle\n",
    "n = int(input(\"enter a number:\"))\n",
    "for i in range(1, n + 1):\n",
    "    for j in range(1, i + 1):\n",
    "        print(j, end=\" \")\n",
    "    print()"
   ]
  },
  {
   "cell_type": "code",
   "execution_count": 162,
   "id": "cd1ab266-33f9-4b22-9537-840019a66f5e",
   "metadata": {},
   "outputs": [
    {
     "name": "stdin",
     "output_type": "stream",
     "text": [
      "enter a number: 3\n"
     ]
    },
    {
     "name": "stdout",
     "output_type": "stream",
     "text": [
      "    * \n",
      "  * * * \n",
      "* * * * * \n"
     ]
    }
   ],
   "source": [
    "#Pyramid Pattern\n",
    "n = int(input(\"enter a number:\"))\n",
    "for i in range(1, n + 1):\n",
    "    for j in range(n - i):\n",
    "        print(\" \", end=\" \")\n",
    "    for k in range(2 * i - 1):\n",
    "        print(\"*\", end=\" \")\n",
    "    print()"
   ]
  },
  {
   "cell_type": "code",
   "execution_count": 191,
   "id": "a77bdf90-a3a3-4a0c-b9c8-9aabff7d25d4",
   "metadata": {},
   "outputs": [
    {
     "name": "stdin",
     "output_type": "stream",
     "text": [
      "enter a number: 4\n"
     ]
    },
    {
     "name": "stdout",
     "output_type": "stream",
     "text": [
      "\n",
      "1 \n",
      "2 3 \n",
      "4 5 6 \n"
     ]
    }
   ],
   "source": [
    "#Floyd’s Triangle\n",
    "n = int(input(\"enter a number:\"))\n",
    "num = 1\n",
    "for i in range(n):\n",
    "    for j in range(i):\n",
    "        print(num, end=\" \")\n",
    "        num += 1\n",
    "    print()"
   ]
  },
  {
   "cell_type": "code",
   "execution_count": 116,
   "id": "1f5c90b4-098c-463e-9e72-5e0f011c9ecf",
   "metadata": {},
   "outputs": [
    {
     "name": "stdin",
     "output_type": "stream",
     "text": [
      "entr the size of j 5\n"
     ]
    },
    {
     "name": "stdout",
     "output_type": "stream",
     "text": [
      "* * * * * \n",
      "* * * * \n",
      "* * * \n",
      "* * \n",
      "* \n",
      "\n"
     ]
    }
   ],
   "source": [
    "#right angle triangle and mirror image\n",
    "'''n = int(input(\"enter a number:\"))\n",
    "for i in range(n, 0, -1):\n",
    "    for j in range(i):\n",
    "        print(\"*\", end=\" \")\n",
    "    print()'''\n",
    "j=int(input(\"entr the size of j\"))\n",
    "for i in range(n):\n",
    "    for j in range(j):\n",
    "        print('*',end=' ')\n",
    "    print()  "
   ]
  },
  {
   "cell_type": "code",
   "execution_count": 118,
   "id": "8e887349-6c5a-4844-a6e5-5eb31bc11790",
   "metadata": {},
   "outputs": [
    {
     "name": "stdin",
     "output_type": "stream",
     "text": [
      " 5\n"
     ]
    },
    {
     "name": "stdout",
     "output_type": "stream",
     "text": [
      "* * * * * \n",
      "* * * * \n",
      "* * * \n",
      "* * \n",
      "* \n"
     ]
    }
   ],
   "source": [
    "n=int(input())\n",
    "for i in range(n):\n",
    "    for j in range(n-i):\n",
    "        print(\"*\",end=' ')\n",
    "    print()    \n"
   ]
  },
  {
   "cell_type": "code",
   "execution_count": 134,
   "id": "dcc0ff63-23bc-4577-85f0-cc7d02b71afc",
   "metadata": {},
   "outputs": [
    {
     "name": "stdout",
     "output_type": "stream",
     "text": [
      "* \n",
      "* * \n",
      "* * * \n",
      "* * * * \n",
      "* * * * * \n",
      "* * * * \n",
      "* * * \n",
      "* * \n",
      "* \n"
     ]
    }
   ],
   "source": [
    "n=5\n",
    "for i in range(1,2*n):\n",
    "    s=i if i<=n else 2*n-i\n",
    "    for j in range(s):\n",
    "        print(\"*\",end=' ')\n",
    "    print()    "
   ]
  },
  {
   "cell_type": "code",
   "execution_count": 137,
   "id": "89011d88-9519-4f25-905d-c7600439211a",
   "metadata": {},
   "outputs": [
    {
     "name": "stdout",
     "output_type": "stream",
     "text": [
      "* \n",
      "* * \n",
      "* * * \n",
      "* * * * \n",
      "* * * * * \n",
      "* * * * \n",
      "* * * \n",
      "* * \n",
      "* \n"
     ]
    }
   ],
   "source": [
    "n = 5\n",
    "\n",
    "# Upper half\n",
    "for i in range(1, n + 1):\n",
    "    print(\"* \" * i)\n",
    "\n",
    "# Lower half\n",
    "for i in range(n - 1, 0, -1):\n",
    "    print(\"* \" * i)"
   ]
  },
  {
   "cell_type": "code",
   "execution_count": 148,
   "id": "82ba3523-351c-4852-8d46-fd675cf0ab30",
   "metadata": {},
   "outputs": [
    {
     "name": "stdout",
     "output_type": "stream",
     "text": [
      "* \n",
      "* * \n",
      "* * * \n",
      "* * * * \n",
      "* * * * * \n",
      "* * * * \n",
      "* * * \n",
      "* * \n",
      "* \n",
      "\n"
     ]
    }
   ],
   "source": [
    "n=5\n",
    "for i in range(1,n+1):\n",
    "    for j in range(i):\n",
    "        print(\"*\",end=' ')\n",
    "    print()  \n",
    "for i in range(1,n+1):\n",
    "    for j in range(n-i):\n",
    "        print(\"*\",end=' ')\n",
    "    print()    "
   ]
  },
  {
   "cell_type": "code",
   "execution_count": 166,
   "id": "75867358-b821-4c3a-9338-81d940d64a2f",
   "metadata": {},
   "outputs": [
    {
     "name": "stdin",
     "output_type": "stream",
     "text": [
      "enter a number: 5\n"
     ]
    },
    {
     "name": "stdout",
     "output_type": "stream",
     "text": [
      "        * \n",
      "      * * * \n",
      "    * * * * * \n",
      "  * * * * * * * \n",
      "* * * * * * * * * \n"
     ]
    }
   ],
   "source": [
    "n = int(input(\"enter a number:\"))\n",
    "for i in range(1, n + 1):\n",
    "    for j in range(n - i):\n",
    "        print(\" \", end=\" \")\n",
    "    for k in range(2 * i - 1):\n",
    "        print(\"*\", end=\" \")\n",
    "    print()"
   ]
  },
  {
   "cell_type": "code",
   "execution_count": 180,
   "id": "365b9570-d119-4edc-b2d9-c854b28d2cd0",
   "metadata": {},
   "outputs": [
    {
     "name": "stdin",
     "output_type": "stream",
     "text": [
      "enter a number: 4\n"
     ]
    },
    {
     "name": "stdout",
     "output_type": "stream",
     "text": [
      "      1   \n",
      "    1   1   \n",
      "  1   2   1   \n",
      "1   3   3   1   \n"
     ]
    }
   ],
   "source": [
    "n = int(input(\"enter a number:\"))\n",
    "for i in range(n):\n",
    "    for s in range(n-i-1):\n",
    "        print(\" \", end=\" \")\n",
    "    num=1\n",
    "    for j in range( i + 1):\n",
    "        print(f\"{num}  \",end=' ')\n",
    "        num=num*(i-j)//(j+1)\n",
    "    print()    "
   ]
  },
  {
   "cell_type": "code",
   "execution_count": 204,
   "id": "7e8c8fa4-021e-4602-a745-11d34af9258c",
   "metadata": {},
   "outputs": [
    {
     "name": "stdout",
     "output_type": "stream",
     "text": [
      "1 \n",
      "2 3 \n",
      "4 5 6 \n",
      "7 8 9 10 \n"
     ]
    }
   ],
   "source": [
    "r=4\n",
    "n=1\n",
    "for i in range(1,r+1):\n",
    "    for j in range(i):\n",
    "        print(n,end=' ')\n",
    "        n+=1\n",
    "    print()    "
   ]
  },
  {
   "cell_type": "code",
   "execution_count": 11,
   "id": "b08f8d37-d66b-4c9d-a77d-5fd7fd1fa86f",
   "metadata": {},
   "outputs": [
    {
     "name": "stdout",
     "output_type": "stream",
     "text": [
      "    *\n",
      "   **\n",
      "  ***\n",
      " ****\n",
      "*****\n",
      " ****\n",
      "  ***\n",
      "   **\n",
      "    *\n"
     ]
    }
   ],
   "source": [
    "#right angle triangle left side\n",
    "n=5\n",
    "for i in range(1,n+1):\n",
    "    print(' '*(n-i),end='')\n",
    "    for j in range(i):\n",
    "        print('*',end='')\n",
    "    print()\n",
    "for i in range(n-1,0,-1):\n",
    "    print(' '*(n-i),end='')\n",
    "    for j in range(i):\n",
    "        print('*',end='')\n",
    "    print()    \n",
    "        if i==0 or i==n-1 or j==0 or j==n-1:\n",
    "               print('*', end=' ')\n",
    "        else:\n",
    "            print(' ',end=' ')"
   ]
  },
  {
   "cell_type": "code",
   "execution_count": null,
   "id": "739d20ed-ca89-4a2e-bbe2-e222405ec343",
   "metadata": {},
   "outputs": [],
   "source": [
    "'''    *\n",
    "    *  *  *\n",
    "*   *  *  *   *     \n",
    "    *  *  *\n",
    "       * '''\n",
    "r=7\n",
    "for i in range(1,r+1):\n",
    "    for j in range(r-i-1):\n",
    "        print(\" \"*(r-i)+ '*'*(2*i-1\n"
   ]
  }
 ],
 "metadata": {
  "kernelspec": {
   "display_name": "Python 3 (ipykernel)",
   "language": "python",
   "name": "python3"
  },
  "language_info": {
   "codemirror_mode": {
    "name": "ipython",
    "version": 3
   },
   "file_extension": ".py",
   "mimetype": "text/x-python",
   "name": "python",
   "nbconvert_exporter": "python",
   "pygments_lexer": "ipython3",
   "version": "3.12.7"
  }
 },
 "nbformat": 4,
 "nbformat_minor": 5
}
