{
 "cells": [
  {
   "cell_type": "code",
   "execution_count": 3,
   "id": "4f3fdd1b-0de5-456e-bc19-77ac7faf6e27",
   "metadata": {},
   "outputs": [
    {
     "name": "stdout",
     "output_type": "stream",
     "text": [
      "Engine started...\n",
      "The car is being drove\n"
     ]
    }
   ],
   "source": [
    "class vehicle:\n",
    "    def start_engine(self):\n",
    "        print(\"Engine started...\")\n",
    "class car(vehicle):\n",
    "    def drive(self):\n",
    "        print(\"The car is being drove\")\n",
    "c=car()\n",
    "c.start_engine()#inherited method\n",
    "c.drive() #sub class own method"
   ]
  },
  {
   "cell_type": "code",
   "execution_count": 5,
   "id": "81a651e7-1826-4b30-9d80-36fef7b52953",
   "metadata": {},
   "outputs": [
    {
     "name": "stdout",
     "output_type": "stream",
     "text": [
      "i am a student\n",
      "the student is studying!!!\n"
     ]
    }
   ],
   "source": [
    "class person:\n",
    "    def info(self):\n",
    "        print(\"i am a student\")\n",
    "class student(person):     \n",
    "    def study(self):\n",
    "        print(\"the student is studying!!!\")\n",
    "s=student()\n",
    "s.info()\n",
    "s.study()\n"
   ]
  },
  {
   "cell_type": "code",
   "execution_count": 9,
   "id": "b747850d-d419-4f3f-87a0-12d92a29e18c",
   "metadata": {},
   "outputs": [
    {
     "name": "stdin",
     "output_type": "stream",
     "text": [
      "enter the value of num1: 9\n",
      "enter the value of num2: 0\n"
     ]
    },
    {
     "name": "stdout",
     "output_type": "stream",
     "text": [
      "The result is 9\n"
     ]
    }
   ],
   "source": [
    "'''code to perform addition operation using superclass as user input and sub class as operation\n",
    "printthe summated value at sub class'''\n",
    "class operate:\n",
    "    def userdata(self):\n",
    "        self.num1=int(input(\"enter the value of num1:\"))\n",
    "        self.num2=int(input(\"enter the value of num2:\"))\n",
    "class summate(operate):\n",
    "    def add(self):\n",
    "        result=self.num1+self.num2\n",
    "        print(f\"The result is {result}\")\n",
    "c=summate()\n",
    "c.userdata()\n",
    "c.add()"
   ]
  },
  {
   "cell_type": "code",
   "execution_count": 21,
   "id": "403a5709-579c-4c05-9953-3711b059cc1e",
   "metadata": {},
   "outputs": [
    {
     "name": "stdin",
     "output_type": "stream",
     "text": [
      "enter the value of num1: 3\n",
      "enter the value of num2: 3\n"
     ]
    },
    {
     "name": "stdout",
     "output_type": "stream",
     "text": [
      "the result is1.0\n"
     ]
    }
   ],
   "source": [
    "'''code to calculate normal division by considering input in superclass and evaltion in sub clASS \n",
    "where zero division error must be handled'''\n",
    "class operation:\n",
    "    def data(self):\n",
    "        self.num1=int(input(\"enter the value of num1:\"))\n",
    "        self.num2=int(input(\"enter the value of num2:\"))\n",
    "class division(operation):\n",
    "    def div(self):\n",
    "        try:\n",
    "            res=self.num1/self.num2\n",
    "            print(f\"the result is{res}\")\n",
    "        except ZeroDivisionError:\n",
    "            print(\"it is a zerodivivsion error\")\n",
    "c=division()\n",
    "c.data()\n",
    "c.div()"
   ]
  },
  {
   "cell_type": "code",
   "execution_count": 39,
   "id": "9dd9e70a-e652-468e-aabc-512c6e7864b2",
   "metadata": {},
   "outputs": [
    {
     "name": "stdin",
     "output_type": "stream",
     "text": [
      "enter the name: sai\n",
      "enter emp id: 33\n",
      "entr department: cse\n"
     ]
    },
    {
     "name": "stdout",
     "output_type": "stream",
     "text": [
      "Name:sai\n",
      "Employe ID:33\n",
      "Department:cse\n"
     ]
    }
   ],
   "source": [
    "class intern: #super\n",
    "    def __init__(self,name):\n",
    "        self.name=name\n",
    "    def display_intern(self):\n",
    "        print(f\"Name:{self.name}\")\n",
    "class employee(intern): #class\n",
    "    def __init__(self,name,emp_id):\n",
    "        super().__init__(name)\n",
    "        self.emp_id=emp_id\n",
    "    def display_employee(self):\n",
    "        print(f\"Employe ID:{self.emp_id}\")\n",
    "class manager(employee): #sub class\n",
    "    def __init__(self,name,emp_id,dept):\n",
    "        super().__init__(name,emp_id)\n",
    "        self.dept=dept\n",
    "    def display_manager(self):\n",
    "        print(f\"Department:{self.dept}\")\n",
    "name=input(\"enter the name:\")\n",
    "emp_id=input(\"enter emp id:\")\n",
    "dept=input(\"entr department:\")\n",
    "m=manager(name,emp_id,dept)\n",
    "m.display_intern()\n",
    "m.display_employee()\n",
    "m.display_manager()"
   ]
  },
  {
   "cell_type": "code",
   "execution_count": null,
   "id": "e0ee578e-4c98-485a-be97-7edf3d75a908",
   "metadata": {},
   "outputs": [],
   "source": []
  }
 ],
 "metadata": {
  "kernelspec": {
   "display_name": "Python 3 (ipykernel)",
   "language": "python",
   "name": "python3"
  },
  "language_info": {
   "codemirror_mode": {
    "name": "ipython",
    "version": 3
   },
   "file_extension": ".py",
   "mimetype": "text/x-python",
   "name": "python",
   "nbconvert_exporter": "python",
   "pygments_lexer": "ipython3",
   "version": "3.12.7"
  }
 },
 "nbformat": 4,
 "nbformat_minor": 5
}
