{
 "cells": [
  {
   "cell_type": "code",
   "execution_count": 3,
   "id": "67e40ef6-d184-4271-a1fe-6f9d4eafe406",
   "metadata": {},
   "outputs": [
    {
     "name": "stdout",
     "output_type": "stream",
     "text": [
      "9\n"
     ]
    }
   ],
   "source": [
    "#oops\n",
    "class abc:\n",
    "    value=9\n",
    "obj1=abc()\n",
    "print(obj1.value)\n",
    "    "
   ]
  },
  {
   "cell_type": "code",
   "execution_count": 10,
   "id": "fb88be1b-d526-476c-954b-b5d1e5d7dc4d",
   "metadata": {},
   "outputs": [
    {
     "name": "stdout",
     "output_type": "stream",
     "text": [
      "9\n",
      "This is a CLASS method\n"
     ]
    }
   ],
   "source": [
    "class abc():\n",
    "      values=9\n",
    "      def display(self):\n",
    "          print(\"This is a CLASS method\")\n",
    "obj1=abc()\n",
    "print(obj1.values)\n",
    "obj1.display()    "
   ]
  },
  {
   "cell_type": "code",
   "execution_count": 22,
   "id": "a1ed49db-d9af-4ac1-9311-d15d651fb714",
   "metadata": {},
   "outputs": [
    {
     "name": "stdin",
     "output_type": "stream",
     "text": [
      "enter the numbers: 8\n"
     ]
    },
    {
     "name": "stdout",
     "output_type": "stream",
     "text": [
      "this is a class method\n",
      "Accessed value in clss is 8\n"
     ]
    }
   ],
   "source": [
    "class abc():\n",
    "    def __init__ (self,value):\n",
    "        print(\"this is a class method\")\n",
    "        self.value=value\n",
    "        print(\"Accessed value in clss is\",value)\n",
    "num=int(input(\"enter the numbers:\"))\n",
    "obj=abc(num)"
   ]
  },
  {
   "cell_type": "code",
   "execution_count": 24,
   "id": "5a781d17-b907-4053-a3bb-58c74cf2b907",
   "metadata": {},
   "outputs": [
    {
     "name": "stdout",
     "output_type": "stream",
     "text": [
      "Hello, i am vijay and i am 32 year-old\n"
     ]
    }
   ],
   "source": [
    "class student:\n",
    "    def __init__ (self,name,age):\n",
    "        self.name=name\n",
    "        self.age=age\n",
    "    def hi(self):\n",
    "        print(f\"Hello, i am {self.name} and i am {self.age} year-old\")\n",
    "s=student(\"vijay\",32)\n",
    "s.hi()"
   ]
  },
  {
   "cell_type": "code",
   "execution_count": null,
   "id": "58581f6d-1489-499b-a462-b55f55f0e3cb",
   "metadata": {},
   "outputs": [
    {
     "name": "stdin",
     "output_type": "stream",
     "text": [
      "enter the radius: 4\n"
     ]
    }
   ],
   "source": [
    "'''code to calcul the are of a ciecle by importing pi from math and create a class for circle with a constructor where radius is considerd \n",
    "as an arg calculate and retuen the value to the object'''\n",
    "import math\n",
    "class circle:\n",
    "    def __init__(self,radius):\n",
    "        self.radius=radius\n",
    "    def area(self):\n",
    "        return math.pi * self.radius**2\n",
    "    def cirum(self):\n",
    "        return  2 * math.pi *self.radius**2\n",
    "r=float(input(\"enter the radius:\"))\n",
    "c=circle(r)\n",
    "print(f\"Area of circle: {c.area():.2f}\")\n",
    "print(\"cicum of circle:\",c.cirum())"
   ]
  },
  {
   "cell_type": "code",
   "execution_count": 7,
   "id": "67bbbf47-8805-48f9-a2fc-5502b0517498",
   "metadata": {},
   "outputs": [
    {
     "name": "stdin",
     "output_type": "stream",
     "text": [
      "enter the number: 5\n"
     ]
    },
    {
     "name": "stdout",
     "output_type": "stream",
     "text": [
      "Factorial: 120\n"
     ]
    }
   ],
   "source": [
    "#Factorial\n",
    "class math:\n",
    "    def __init__(self,num):\n",
    "        self.num=num\n",
    "    def fact(self):\n",
    "        f=1\n",
    "        for i in range(1,self.num+1):\n",
    "            f*=i\n",
    "        return f\n",
    "n=int(input(\"enter the number:\"))\n",
    "m=math(n)\n",
    "print(\"Factorial:\",m.fact())           "
   ]
  },
  {
   "cell_type": "code",
   "execution_count": 33,
   "id": "2ce6b7b5-a9b4-4ec4-9932-c61d372be663",
   "metadata": {},
   "outputs": [
    {
     "name": "stdin",
     "output_type": "stream",
     "text": [
      "enter the number: 9\n"
     ]
    },
    {
     "name": "stdout",
     "output_type": "stream",
     "text": [
      "squarerootof number is: 3.0\n"
     ]
    }
   ],
   "source": [
    "'''code to import the sqrt function and calculate the value \n",
    "by creating a class squareRoot and define a function for finding the root return the value to the main program'''\n",
    "import math\n",
    "class squareRoot:\n",
    "    def __init__(self,num):\n",
    "        self.num=num\n",
    "    def squaroot(self):\n",
    "        return math.sqrt(self.num)\n",
    "n=int(input(\"enter the number:\"))\n",
    "root=squareRoot(n)\n",
    "print(\"squarerootof number is:\",root.squaroot())"
   ]
  },
  {
   "cell_type": "code",
   "execution_count": 6,
   "id": "b14314ff-d1aa-4dfd-9529-b748e364efc6",
   "metadata": {},
   "outputs": [
    {
     "name": "stdout",
     "output_type": "stream",
     "text": [
      "even list: [8]\n",
      "odd list: [11, 9]\n"
     ]
    }
   ],
   "source": [
    "#mulitle class\n",
    "class n:\n",
    "    even=[]\n",
    "    odd=[]\n",
    "    def __init__(self,num):\n",
    "        self.num=num\n",
    "        if num %2==0:\n",
    "            n.even.append(num)\n",
    "        else :\n",
    "             n.odd.append(num)\n",
    "n1=n(11)\n",
    "n2=n(8)\n",
    "n3=n(9)\n",
    "print(\"even list:\",n.even)\n",
    "print(\"odd list:\",n.odd)"
   ]
  },
  {
   "cell_type": "code",
   "execution_count": null,
   "id": "f67de730-dc41-464e-9e49-cf8db01d8dcf",
   "metadata": {},
   "outputs": [],
   "source": []
  },
  {
   "cell_type": "code",
   "execution_count": null,
   "id": "f1e6fd64-f4b6-4581-9742-610843c856d6",
   "metadata": {},
   "outputs": [],
   "source": []
  }
 ],
 "metadata": {
  "kernelspec": {
   "display_name": "Python 3 (ipykernel)",
   "language": "python",
   "name": "python3"
  },
  "language_info": {
   "codemirror_mode": {
    "name": "ipython",
    "version": 3
   },
   "file_extension": ".py",
   "mimetype": "text/x-python",
   "name": "python",
   "nbconvert_exporter": "python",
   "pygments_lexer": "ipython3",
   "version": "3.12.7"
  }
 },
 "nbformat": 4,
 "nbformat_minor": 5
}
