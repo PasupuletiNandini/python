{
 "cells": [
  {
   "cell_type": "code",
   "execution_count": 3,
   "id": "a9f90630-3674-4c84-b4f1-df85ee3fc3fb",
   "metadata": {},
   "outputs": [
    {
     "name": "stdout",
     "output_type": "stream",
     "text": [
      "even list: [32, 54]\n",
      "odd list: [21, 43, 65]\n"
     ]
    }
   ],
   "source": [
    "'''mutable type attributes code to illstrate multiple attributes by calling a class fpr its specifications \n",
    "for exampl n=21,3,434,65\n",
    "even list:[32,54]\n",
    "odd list :[21,43,65]'''\n",
    "class number:\n",
    "    evens=[]\n",
    "    odds=[]\n",
    "    def __init__(self,num):\n",
    "        self.num=num\n",
    "        if num%2 == 0:\n",
    "            number.evens.append(num)\n",
    "        else:\n",
    "            number.odds.append(num)\n",
    "n1=number(21) \n",
    "n2=number(32)\n",
    "n3=number(54)\n",
    "n4=number(43)\n",
    "n5=number(65)\n",
    "print(\"even list:\",number.evens)\n",
    "print(\"odd list:\",number.odds)"
   ]
  },
  {
   "cell_type": "code",
   "execution_count": 15,
   "id": "788b14c9-1667-457c-acce-daa18c53144a",
   "metadata": {},
   "outputs": [
    {
     "name": "stdin",
     "output_type": "stream",
     "text": [
      "enter the value of n: 2\n"
     ]
    },
    {
     "name": "stdout",
     "output_type": "stream",
     "text": [
      "given values: 2\n",
      "given values: 8\n"
     ]
    }
   ],
   "source": [
    "#global\n",
    "def op(x):\n",
    "    return x**3\n",
    "class abc():\n",
    "    def __init__(self,val):\n",
    "        self.val=val\n",
    "    def display(self):\n",
    "        print(\"given values:\",self.val)\n",
    "    def modify(self):\n",
    "        self.val=op(self.val)\n",
    "n=int(input(\"enter the value of n:\"))        \n",
    "o=abc(n)\n",
    "o.display()\n",
    "o.modify()\n",
    "o.display()\n"
   ]
  },
  {
   "cell_type": "code",
   "execution_count": 27,
   "id": "6f7800c3-64ee-4bc1-b4bd-e549d84bc19f",
   "metadata": {},
   "outputs": [
    {
     "name": "stdin",
     "output_type": "stream",
     "text": [
      "enter the number: 7\n",
      "enter the number: 9\n"
     ]
    },
    {
     "name": "stdout",
     "output_type": "stream",
     "text": [
      "object.__dict__- {'var1': 7, 'var2': 9}\n",
      "object.__doc__- None\n",
      "class.__name__- abc\n",
      "object.__module__- __main__\n",
      "class.__base__- <class 'object'>\n",
      "class.__bases__- (<class 'object'>,)\n"
     ]
    }
   ],
   "source": [
    "#build_in attribute\n",
    "class abc():\n",
    "    def __init__(self,var1,var2):\n",
    "        self.var1=var1\n",
    "        self.var2=var2\n",
    "    def display(self):\n",
    "        print(\"var1:\",self.var1)\n",
    "        print(\"var2:\",self.var2)\n",
    "n1=int(input(\"enter the number:\"))\n",
    "n2=int(input(\"enter the number:\"))\n",
    "o=abc(n1,n2)\n",
    "print(\"object.__dict__-\",o.__dict__)\n",
    "print(\"object.__doc__-\",o.__doc__)\n",
    "print(\"class.__name__-\",abc.__name__)\n",
    "print(\"object.__module__-\",o.__module__)\n",
    "print(\"class.__base__-\",abc.__base__)\n",
    "print(\"class.__bases__-\",abc.__bases__)"
   ]
  },
  {
   "cell_type": "code",
   "execution_count": 33,
   "id": "de6ac6aa-bd6a-413d-bc2f-69f9646aaaa9",
   "metadata": {},
   "outputs": [
    {
     "name": "stdout",
     "output_type": "stream",
     "text": [
      "<class 'type'>\n",
      "1704\n",
      "48\n"
     ]
    }
   ],
   "source": [
    "'''code to iew the memory info in a class ,which gives te type of the class,size of the class object,an size of instance\n",
    "const:use package-sys for size of\n",
    "given value of num=10'''\n",
    "import sys\n",
    "class A:\n",
    "    num=10\n",
    "a=A()\n",
    "print(type(A))\n",
    "print(sys.getsizeof(A))\n",
    "print(sys.getsizeof(a))"
   ]
  },
  {
   "cell_type": "code",
   "execution_count": 15,
   "id": "88f7a8cf-040a-4aab-807c-8fcaf3467055",
   "metadata": {},
   "outputs": [
    {
     "name": "stdin",
     "output_type": "stream",
     "text": [
      "enter the userpin: 1234\n",
      "enter a amount: 5657\n"
     ]
    },
    {
     "name": "stdout",
     "output_type": "stream",
     "text": [
      "5657 debited .remainin balance RS.342\n"
     ]
    }
   ],
   "source": [
    "''' create a class at and chec the pin user1234\n",
    "define a function to with drawn 2000/-,balace amount from account 5999,\n",
    "if the amount is over then balance exit and check the for accessing the account'''\n",
    "\n",
    "class atm:\n",
    "    def __init__(self):\n",
    "        self.pin=\"1234\"\n",
    "        self.balance=5999\n",
    "    def process(self):    \n",
    "                userpin=input(\"enter the userpin:\")\n",
    "                if userpin==self.pin:\n",
    "                    amount=int(input(\"enter a amount:\"))\n",
    "                    if amount<=self.balance:\n",
    "                        self.balance-=amount\n",
    "                        print(f\"{amount} debited .remainin balance RS.{self.balance}\")\n",
    "                    else:\n",
    "                        print(\"Insufficent amount in account\")\n",
    "                else:\n",
    "                    print(\"Invailb pin\")\n",
    "ATM=atm()\n",
    "ATM.process()                    "
   ]
  },
  {
   "cell_type": "code",
   "execution_count": null,
   "id": "81e79404-3a27-4098-b1f9-e60707476e11",
   "metadata": {},
   "outputs": [],
   "source": []
  },
  {
   "cell_type": "code",
   "execution_count": null,
   "id": "77fa1bef-ef1b-44cd-b141-3b70b1f21f4e",
   "metadata": {},
   "outputs": [],
   "source": []
  }
 ],
 "metadata": {
  "kernelspec": {
   "display_name": "Python 3 (ipykernel)",
   "language": "python",
   "name": "python3"
  },
  "language_info": {
   "codemirror_mode": {
    "name": "ipython",
    "version": 3
   },
   "file_extension": ".py",
   "mimetype": "text/x-python",
   "name": "python",
   "nbconvert_exporter": "python",
   "pygments_lexer": "ipython3",
   "version": "3.12.7"
  }
 },
 "nbformat": 4,
 "nbformat_minor": 5
}
